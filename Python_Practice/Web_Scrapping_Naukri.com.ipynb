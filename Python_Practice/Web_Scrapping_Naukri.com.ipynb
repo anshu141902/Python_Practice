{
 "cells": [
  {
   "cell_type": "code",
   "execution_count": 1,
   "metadata": {},
   "outputs": [],
   "source": [
    "from selenium import webdriver\n",
    "from bs4 import BeautifulSoup\n",
    "import pandas as pd"
   ]
  },
  {
   "cell_type": "code",
   "execution_count": 4,
   "metadata": {},
   "outputs": [],
   "source": [
    "# Path to the page url and webdriver\n",
    "page_url = 'http://www.maati.net/Home/ContactUs'\n",
    "path_to_webdriver = r\"C:\\Users\\IT Care\\Desktop\\python Class(30-Aug)\\driver\\chromedriver.exe\"\n",
    "# Start the web session by passing the path and the page url\n",
    "driver = webdriver.Chrome(path_to_webdriver)\n",
    "driver.get(page_url)\n",
    "driver.maximize_window() \n",
    "driver.implicitly_wait(20)"
   ]
  },
  {
   "cell_type": "code",
   "execution_count": 6,
   "metadata": {},
   "outputs": [],
   "source": [
    "# Name\n",
    "driver.find_element_by_id(\"name\").send_keys('Noorain Ansari')\n",
    "\n",
    "# Contact No.\n",
    "driver.find_element_by_id(\"Contact\").send_keys('9911176564')\n",
    "\n",
    "# cainput email\n",
    "driver.find_element_by_id(\"cainput_email\").send_keys('www.maati.com@gmail.com')\n",
    "\n",
    "# cainput email\n",
    "driver.find_element_by_id(\"cainput_email\").send_keys('9911176564')\n",
    "\n",
    "# cainput subject\n",
    "driver.find_element_by_id(\"cainput_subject\").send_keys('Python Course')\n",
    "\n",
    "# cainput subject\n",
    "driver.find_element_by_id(\"cainput_message\").send_keys('I want to join Python calss')\n",
    "\n"
   ]
  },
  {
   "cell_type": "code",
   "execution_count": null,
   "metadata": {},
   "outputs": [],
   "source": [
    "# Clicking the search button\n",
    "button = driver.find_element_by_id('cainput_submit')\n",
    "button.click()"
   ]
  }
 ],
 "metadata": {
  "kernelspec": {
   "display_name": "Python 3",
   "language": "python",
   "name": "python3"
  },
  "language_info": {
   "codemirror_mode": {
    "name": "ipython",
    "version": 3
   },
   "file_extension": ".py",
   "mimetype": "text/x-python",
   "name": "python",
   "nbconvert_exporter": "python",
   "pygments_lexer": "ipython3",
   "version": "3.7.6"
  }
 },
 "nbformat": 4,
 "nbformat_minor": 4
}
