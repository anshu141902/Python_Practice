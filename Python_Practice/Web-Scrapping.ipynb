{
 "cells": [
  {
   "cell_type": "code",
   "execution_count": 1,
   "metadata": {},
   "outputs": [],
   "source": [
    "import requests\n",
    "from bs4 import BeautifulSoup\n",
    "import pandas as pd"
   ]
  },
  {
   "cell_type": "code",
   "execution_count": 2,
   "metadata": {},
   "outputs": [],
   "source": [
    "req = requests.get('http://www.nfl.com/stats/categorystats?archive=false&conference=null&role=TM&offensiveStatisticCategory=TEAM_PASSING&defensiveStatisticCategory=null&season=2018&seasonType=REG&tabSeq=2&qualified=false&Submit=Go')\n",
    "soup = BeautifulSoup(req.text, 'lxml')"
   ]
  },
  {
   "cell_type": "code",
   "execution_count": 4,
   "metadata": {},
   "outputs": [],
   "source": [
    "req = requests.get('http://exlservices.com')\n",
    "soup = BeautifulSoup(req.text, 'lxml')"
   ]
  },
  {
   "cell_type": "code",
   "execution_count": 5,
   "metadata": {},
   "outputs": [
    {
     "data": {
      "text/plain": [
       "<!DOCTYPE html>\n",
       "<html><head>\n",
       "<meta charset=\"utf-8\"/>\n",
       "<meta content=\"IE=edge,chrome=1\" http-equiv=\"X-UA-Compatible\"/>\n",
       "<meta content=\"width=device-width, initial-scale=1, maximum-scale=1\" name=\"viewport\"/>\n",
       "<title>exlservices.com</title>\n",
       "<link href=\"themes/custom/media.css\" media=\"screen\" rel=\"stylesheet\"/>\n",
       "</head>\n",
       "<body>\n",
       "<div class=\"Searchdomain_sec\">\n",
       "<div class=\"Srch_form\">\n",
       "<div class=\"t_wrap link_n1\">\n",
       "<a href=\"http://domainist.com/details.php?id=16401\" target=\"_blank\">exlservices.com is for sale!  Click here to inquire.</a>\n",
       "</div>\n",
       "<div class=\"container\">\n",
       "<div class=\"cent\">\n",
       "<div class=\"col\">\n",
       "<div class=\"title\">SEARCH:</div>\n",
       "<div class=\"form\">\n",
       "<form action=\"http://www.google.com\" id=\"cse-search-box\" target=\"_blank\">\n",
       "<input name=\"cx\" type=\"hidden\" value=\"partner-pub-2164982598563579:4800604047\"/>\n",
       "<input name=\"ie\" type=\"hidden\" value=\"UTF-8\"/>\n",
       "<input class=\"t_bx_1\" name=\"q\" size=\"55\" type=\"text\"/>\n",
       "<input class=\"Search_btn\" name=\"sa\" type=\"submit\" value=\"Search\"/>\n",
       "</form>\n",
       "</div>\n",
       "<script src=\"http://www.google.com/coop/cse/brand?form=cse-search-box&amp;lang=en\" type=\"text/javascript\"></script>\n",
       "</div>\n",
       "</div>\n",
       "</div>\n",
       "</div>\n",
       "<div class=\"footer2\">\n",
       "Privacy Policy\n",
       "\n",
       "</div>\n",
       "</div>\n",
       "</body>\n",
       "</html>"
      ]
     },
     "execution_count": 5,
     "metadata": {},
     "output_type": "execute_result"
    }
   ],
   "source": [
    "soup"
   ]
  },
  {
   "cell_type": "code",
   "execution_count": 6,
   "metadata": {},
   "outputs": [],
   "source": [
    "req = requests.get('http://naukri.com')\n",
    "soup = BeautifulSoup(req.text, 'lxml')"
   ]
  },
  {
   "cell_type": "code",
   "execution_count": 7,
   "metadata": {
    "collapsed": true
   },
   "outputs": [
    {
     "name": "stdout",
     "output_type": "stream",
     "text": [
      "<bound method PageElement.extract of <!DOCTYPE html>\n",
      "<html lang=\"en\"> <head> <meta content=\"width=device-width,initial-scale=1.0, maximum-scale=1.0, minimum-scale=1.0, user-scalable=no\" name=\"viewport\"/> <link href=\"//static.naukimg.com\" rel=\"dns-prefetch preconnect\"/> <link href=\"//img.naukimg.com\" rel=\"dns-prefetch preconnect\"/> <link href=\"//logs.naukri.com\" rel=\"dns-prefetch preconnect\"/> <link href=\"//lg.naukri.com\" rel=\"dns-prefetch preconnect\"/> <link href=\"https://www.googletagmanager.com\" rel=\"dns-prefetch\"/> <base href=\"//www.naukri.com\"/> <meta content=\"IE=Edge\" http-equiv=\"X-UA-Compatible\"/><script type=\"text/javascript\">(window.NREUM||(NREUM={})).loader_config={licenseKey:\"2107384c61\",applicationID:\"406808177\"};window.NREUM||(NREUM={}),__nr_require=function(e,n,t){function r(t){if(!n[t]){var i=n[t]={exports:{}};e[t][0].call(i.exports,function(n){var i=e[t][1][n];return r(i||n)},i,i.exports)}return n[t].exports}if(\"function\"==typeof __nr_require)return __nr_require;for(var i=0;i<t.length;i++)r(t[i]);return r}({1:[function(e,n,t){function r(){}function i(e,n,t){return function(){return o(e,[u.now()].concat(c(arguments)),n?null:this,t),n?void 0:this}}var o=e(\"handle\"),a=e(5),c=e(6),f=e(\"ee\").get(\"tracer\"),u=e(\"loader\"),s=NREUM;\"undefined\"==typeof window.newrelic&&(newrelic=s);var d=[\"setPageViewName\",\"setCustomAttribute\",\"setErrorHandler\",\"finished\",\"addToTrace\",\"inlineHit\",\"addRelease\"],p=\"api-\",l=p+\"ixn-\";a(d,function(e,n){s[n]=i(p+n,!0,\"api\")}),s.addPageAction=i(p+\"addPageAction\",!0),s.setCurrentRouteName=i(p+\"routeName\",!0),n.exports=newrelic,s.interaction=function(){return(new r).get()};var m=r.prototype={createTracer:function(e,n){var t={},r=this,i=\"function\"==typeof n;return o(l+\"tracer\",[u.now(),e,t],r),function(){if(f.emit((i?\"\":\"no-\")+\"fn-start\",[u.now(),r,i],t),i)try{return n.apply(this,arguments)}catch(e){throw f.emit(\"fn-err\",[arguments,this,e],t),e}finally{f.emit(\"fn-end\",[u.now()],t)}}}};a(\"actionText,setName,setAttribute,save,ignore,onEnd,getContext,end,get\".split(\",\"),function(e,n){m[n]=i(l+n)}),newrelic.noticeError=function(e,n){\"string\"==typeof e&&(e=new Error(e)),o(\"err\",[e,u.now(),!1,n])}},{}],2:[function(e,n,t){function r(e,n){var t=e.getEntries();t.forEach(function(e){\"first-paint\"===e.name?d(\"timing\",[\"fp\",Math.floor(e.startTime)]):\"first-contentful-paint\"===e.name&&d(\"timing\",[\"fcp\",Math.floor(e.startTime)])})}function i(e,n){var t=e.getEntries();t.length>0&&d(\"lcp\",[t[t.length-1]])}function o(e){e.getEntries().forEach(function(e){e.hadRecentInput||d(\"cls\",[e])})}function a(e){if(e instanceof m&&!g){var n=Math.round(e.timeStamp),t={type:e.type};n<=p.now()?t.fid=p.now()-n:n>p.offset&&n<=Date.now()?(n-=p.offset,t.fid=p.now()-n):n=p.now(),g=!0,d(\"timing\",[\"fi\",n,t])}}function c(e){d(\"pageHide\",[p.now(),e])}if(!(\"init\"in NREUM&&\"page_view_timing\"in NREUM.init&&\"enabled\"in NREUM.init.page_view_timing&&NREUM.init.page_view_timing.enabled===!1)){var f,u,s,d=e(\"handle\"),p=e(\"loader\"),l=e(4),m=NREUM.o.EV;if(\"PerformanceObserver\"in window&&\"function\"==typeof window.PerformanceObserver){f=new PerformanceObserver(r);try{f.observe({entryTypes:[\"paint\"]})}catch(v){}u=new PerformanceObserver(i);try{u.observe({entryTypes:[\"largest-contentful-paint\"]})}catch(v){}s=new PerformanceObserver(o);try{s.observe({type:\"layout-shift\",buffered:!0})}catch(v){}}if(\"addEventListener\"in document){var g=!1,y=[\"click\",\"keydown\",\"mousedown\",\"pointerdown\",\"touchstart\"];y.forEach(function(e){document.addEventListener(e,a,!1)})}l(c)}},{}],3:[function(e,n,t){function r(e,n){if(!i)return!1;if(e!==i)return!1;if(!n)return!0;if(!o)return!1;for(var t=o.split(\".\"),r=n.split(\".\"),a=0;a<r.length;a++)if(r[a]!==t[a])return!1;return!0}var i=null,o=null,a=/Version\\/(\\S+)\\s+Safari/;if(navigator.userAgent){var c=navigator.userAgent,f=c.match(a);f&&c.indexOf(\"Chrome\")===-1&&c.indexOf(\"Chromium\")===-1&&(i=\"Safari\",o=f[1])}n.exports={agent:i,version:o,match:r}},{}],4:[function(e,n,t){function r(e){function n(){e(a&&document[a]?document[a]:document[i]?\"hidden\":\"visible\")}\"addEventListener\"in document&&o&&document.addEventListener(o,n,!1)}n.exports=r;var i,o,a;\"undefined\"!=typeof document.hidden?(i=\"hidden\",o=\"visibilitychange\",a=\"visibilityState\"):\"undefined\"!=typeof document.msHidden?(i=\"msHidden\",o=\"msvisibilitychange\"):\"undefined\"!=typeof document.webkitHidden&&(i=\"webkitHidden\",o=\"webkitvisibilitychange\",a=\"webkitVisibilityState\")},{}],5:[function(e,n,t){function r(e,n){var t=[],r=\"\",o=0;for(r in e)i.call(e,r)&&(t[o]=n(r,e[r]),o+=1);return t}var i=Object.prototype.hasOwnProperty;n.exports=r},{}],6:[function(e,n,t){function r(e,n,t){n||(n=0),\"undefined\"==typeof t&&(t=e?e.length:0);for(var r=-1,i=t-n||0,o=Array(i<0?0:i);++r<i;)o[r]=e[n+r];return o}n.exports=r},{}],7:[function(e,n,t){n.exports={exists:\"undefined\"!=typeof window.performance&&window.performance.timing&&\"undefined\"!=typeof window.performance.timing.navigationStart}},{}],ee:[function(e,n,t){function r(){}function i(e){function n(e){return e&&e instanceof r?e:e?f(e,c,o):o()}function t(t,r,i,o){if(!p.aborted||o){e&&e(t,r,i);for(var a=n(i),c=v(t),f=c.length,u=0;u<f;u++)c[u].apply(a,r);var d=s[w[t]];return d&&d.push([b,t,r,a]),a}}function l(e,n){h[e]=v(e).concat(n)}function m(e,n){var t=h[e];if(t)for(var r=0;r<t.length;r++)t[r]===n&&t.splice(r,1)}function v(e){return h[e]||[]}function g(e){return d[e]=d[e]||i(t)}function y(e,n){u(e,function(e,t){n=n||\"feature\",w[t]=n,n in s||(s[n]=[])})}var h={},w={},b={on:l,addEventListener:l,removeEventListener:m,emit:t,get:g,listeners:v,context:n,buffer:y,abort:a,aborted:!1};return b}function o(){return new r}function a(){(s.api||s.feature)&&(p.aborted=!0,s=p.backlog={})}var c=\"nr@context\",f=e(\"gos\"),u=e(5),s={},d={},p=n.exports=i();p.backlog=s},{}],gos:[function(e,n,t){function r(e,n,t){if(i.call(e,n))return e[n];var r=t();if(Object.defineProperty&&Object.keys)try{return Object.defineProperty(e,n,{value:r,writable:!0,enumerable:!1}),r}catch(o){}return e[n]=r,r}var i=Object.prototype.hasOwnProperty;n.exports=r},{}],handle:[function(e,n,t){function r(e,n,t,r){i.buffer([e],r),i.emit(e,n,t)}var i=e(\"ee\").get(\"handle\");n.exports=r,r.ee=i},{}],id:[function(e,n,t){function r(e){var n=typeof e;return!e||\"object\"!==n&&\"function\"!==n?-1:e===window?0:a(e,o,function(){return i++})}var i=1,o=\"nr@id\",a=e(\"gos\");n.exports=r},{}],loader:[function(e,n,t){function r(){if(!x++){var e=E.info=NREUM.info,n=l.getElementsByTagName(\"script\")[0];if(setTimeout(s.abort,3e4),!(e&&e.licenseKey&&e.applicationID&&n))return s.abort();u(w,function(n,t){e[n]||(e[n]=t)});var t=a();f(\"mark\",[\"onload\",t+E.offset],null,\"api\"),f(\"timing\",[\"load\",t]);var r=l.createElement(\"script\");r.src=\"https://\"+e.agent,n.parentNode.insertBefore(r,n)}}function i(){\"complete\"===l.readyState&&o()}function o(){f(\"mark\",[\"domContent\",a()+E.offset],null,\"api\")}function a(){return O.exists&&performance.now?Math.round(performance.now()):(c=Math.max((new Date).getTime(),c))-E.offset}var c=(new Date).getTime(),f=e(\"handle\"),u=e(5),s=e(\"ee\"),d=e(3),p=window,l=p.document,m=\"addEventListener\",v=\"attachEvent\",g=p.XMLHttpRequest,y=g&&g.prototype;NREUM.o={ST:setTimeout,SI:p.setImmediate,CT:clearTimeout,XHR:g,REQ:p.Request,EV:p.Event,PR:p.Promise,MO:p.MutationObserver};var h=\"\"+location,w={beacon:\"bam.nr-data.net\",errorBeacon:\"bam.nr-data.net\",agent:\"js-agent.newrelic.com/nr-1177.min.js\"},b=g&&y&&y[m]&&!/CriOS/.test(navigator.userAgent),E=n.exports={offset:c,now:a,origin:h,features:{},xhrWrappable:b,userAgent:d};e(1),e(2),l[m]?(l[m](\"DOMContentLoaded\",o,!1),p[m](\"load\",r,!1)):(l[v](\"onreadystatechange\",i),p[v](\"onload\",r)),f(\"mark\",[\"firstbyte\",c],null,\"api\");var x=0,O=e(7)},{}],\"wrap-function\":[function(e,n,t){function r(e){return!(e&&e instanceof Function&&e.apply&&!e[a])}var i=e(\"ee\"),o=e(6),a=\"nr@original\",c=Object.prototype.hasOwnProperty,f=!1;n.exports=function(e,n){function t(e,n,t,i){function nrWrapper(){var r,a,c,f;try{a=this,r=o(arguments),c=\"function\"==typeof t?t(r,a):t||{}}catch(u){p([u,\"\",[r,a,i],c])}s(n+\"start\",[r,a,i],c);try{return f=e.apply(a,r)}catch(d){throw s(n+\"err\",[r,a,d],c),d}finally{s(n+\"end\",[r,a,f],c)}}return r(e)?e:(n||(n=\"\"),nrWrapper[a]=e,d(e,nrWrapper),nrWrapper)}function u(e,n,i,o){i||(i=\"\");var a,c,f,u=\"-\"===i.charAt(0);for(f=0;f<n.length;f++)c=n[f],a=e[c],r(a)||(e[c]=t(a,u?c+i:i,o,c))}function s(t,r,i){if(!f||n){var o=f;f=!0;try{e.emit(t,r,i,n)}catch(a){p([a,t,r,i])}f=o}}function d(e,n){if(Object.defineProperty&&Object.keys)try{var t=Object.keys(e);return t.forEach(function(t){Object.defineProperty(n,t,{get:function(){return e[t]},set:function(n){return e[t]=n,n}})}),n}catch(r){p([r])}for(var i in e)c.call(e,i)&&(n[i]=e[i]);return n}function p(n){try{e.emit(\"internal-error\",n)}catch(t){}}return e||(e=i),t.inPlace=u,t.flag=a,t}},{}]},{},[\"loader\"]);</script> <link href=\"./manifest.json\" rel=\"manifest\"/> <link as=\"style\" href=\"//static.naukimg.com/s/7/109/c/main.f05b7bb1.min.css\" rel=\"preload\"/> <link as=\"script\" href=\"//static.naukimg.com/s/7/109/j/main.987d9bd4.min.js\" rel=\"preload\"/> <script async=\"\" src=\"https://www.googletagmanager.com/gtag/js?id=UA-182658-1\"></script> <script>\n",
      "\t\t\twindow.dataLayer = window.dataLayer || [];\n",
      "\t\t\tfunction gtag() {\n",
      "\t\t\t\tdataLayer.push(arguments);\n",
      "\t\t\t}\n",
      "\t\t\tgtag('js', new Date());\n",
      "\t\t\tgtag('config', 'UA-182658-1');\n",
      "\t\t</script> <script>\n",
      "\t\t\twindow.ipAddress = \"www.naukri.com\";\n",
      "\t\t\twindow.DEBUG = true;\n",
      "\t\t\twindow.appId = 135;\n",
      "\t\t\t\t\t\t    var isCrawler = false;\n",
      "\t\t\t\t\t\t\t\t\t    var ucBrowser = false;\n",
      "\t\t\t\t\t</script> <style type=\"text/css\"> .page-preloader div { position: absolute; left: 50%; top: 45%; transform: translate(-50%, -50%); width: 62px; height: 62px; border: 3px solid #4a90e2; border-top-color: transparent; border-radius: 50%; animation: page-loader 1s linear infinite; } @keyframes page-loader { 0% { transform: translate(-50%, -50%) rotate(0deg); } 100% { transform: translate(-50%, -50%) rotate(360deg); } } </style> </head> <body> <noscript> <iframe height=\"0\" src=\"https://www.googletagmanager.com/ns.html?id=GTM-NX744H\" style=\"display:none;visibility:hidden\" width=\"0\"></iframe> </noscript> <div id=\"root\"> <div class=\"page-preloader\"> <div></div> </div> </div> <link href=\"//static.naukimg.com/s/7/109/c/main.f05b7bb1.min.css\" media=\" all\" rel=\"stylesheet\" type=\"text/css\"/> <script> (function() { var queuedSuperProps = []; var queuedEvents = []; window.ub = { track: function(eventName, eventProps) { queuedEvents.push([eventName, eventProps]) }, register: function(properties) { queuedSuperProps.push(properties); } };\n",
      "            var script = document.createElement(\"script\"); script.async = true; script.src = \"//static.naukimg.com/s/0/1/j/ub_v1.7.min.js\";script.onload = function() { ub.init({\n",
      "                    beaconUrl : \"https://logs.naukri.com/uba\", bulkBeaconUrl : \"https://logs.naukri.com/collectorapi/v1/uba/bulk\", queuedEvents:queuedEvents, queuedSuperProps:queuedSuperProps,  tenantId:'1' , autoTrack:false, blackList: \n",
      "                []\n",
      "            }); };document.head.appendChild(script);}()); ub.register({ appId:103, pageName: \"homepage\",  tenantId:'1' , }); </script> <script>\n",
      "\t\t\t//hack of IE and safari bug : Super expression must either be null or a function, not undefined\n",
      "\t\t\tif (typeof HTMLElement !== 'function') {\n",
      "\t\t\t\tvar _HTMLElement = function() {};\n",
      "\t\t\t\t_HTMLElement.prototype = HTMLElement.prototype;\n",
      "\t\t\t\tHTMLElement = _HTMLElement;\n",
      "\t\t\t}\n",
      "\t\t</script> <script defer=\"\" src=\"//static.naukimg.com/s/7/109/j/vendors~main.dfd31e1a.min.js\" type=\"text/javascript\"></script> <script defer=\"\" src=\"//static.naukimg.com/s/7/109/j/main.987d9bd4.min.js\" type=\"text/javascript\"></script> <script src=\"//static.naukimg.com/s/0/0/j/nLoggerJB_v3.0.min.js\" type=\"text/javascript\"></script> <script type=\"text/javascript\">\n",
      "\t\t\twindow.nLogger &&\n",
      "\t\t\t\tnLogger.init({\n",
      "\t\t\t\t\ttag: 'revamped_srp',\n",
      "\t\t\t\t\tnLogger: {\n",
      "\t\t\t\t\t\tbeaconUrl: 'https:\\/\\/lg.naukri.com\\/uba',\n",
      "\t\t\t\t\t\teventName: 'newMonkError',\n",
      "\t\t\t\t\t\tdeviceType: 'SERVER'\n",
      "\t\t\t\t\t},\n",
      "\t\t\t\t\tboomerang: {\n",
      "\t\t\t\t\t\tlogBW: false,\n",
      "\t\t\t\t\t\tbeaconUrl: 'https:\\/\\/lg.naukri.com\\/uba',\n",
      "\t\t\t\t\t\timageURL: '\\/\\/static.naukimg.com\\/s\\/0\\/0\\/i\\/',\n",
      "\t\t\t\t\t\teventName: 'newMonkPerformance',\n",
      "\t\t\t\t\t\tdeviceType: 'SERVER'\n",
      "\t\t\t\t\t},\n",
      "\t\t\t\t\ttenantId: 1,\n",
      "\t\t\t\t\tappId: 103,\n",
      "\t\t\t\t\tuserIP: '2045974146'\n",
      "\t\t\t\t});\n",
      "\t\t</script> <script type=\"text/javascript\">\n",
      "\t\t\t(function(w, d, s, l, i) {\n",
      "\t\t\t\tw[l] = w[l] || [];\n",
      "\t\t\t\tw[l].push({\n",
      "\t\t\t\t\t'gtm.start': new Date().getTime(),\n",
      "\t\t\t\t\tevent: 'gtm.js'\n",
      "\t\t\t\t});\n",
      "\t\t\t\tvar f = d.getElementsByTagName(s)[0],\n",
      "\t\t\t\t\tj = d.createElement(s),\n",
      "\t\t\t\t\tdl = l != 'dataLayer' ? '&l=' + l : '';\n",
      "\t\t\t\tj.defer = 'defer';\n",
      "\t\t\t\tj.src = 'https://www.googletagmanager.com/gtm.js?id=' + i + dl;\n",
      "\t\t\t\tf.parentNode.insertBefore(j, f);\n",
      "\t\t\t})(window, document, 'script', 'dataLayer', 'GTM-NX744H');\n",
      "\t\t</script> <script defer=\"\" src=\"https://www.googletagservices.com/tag/js/gpt.js\"></script> <script>\n",
      "\t\t\tvar googletag = googletag || {};\n",
      "\t\t\tgoogletag.cmd = googletag.cmd || [];\n",
      "\t\t</script> <script type=\"text/javascript\">window.NREUM||(NREUM={});NREUM.info={\"beacon\":\"bam.nr-data.net\",\"licenseKey\":\"2107384c61\",\"applicationID\":\"406808177\",\"transactionName\":\"MgZVMUVYC0ZSWhZdCgtMdgZDUApbHEwAaxEXAlQOXlcCakRQBlMAEQ==\",\"queueTime\":0,\"applicationTime\":42,\"atts\":\"HkFWRw1CGEg=\",\"errorBeacon\":\"bam.nr-data.net\",\"agent\":\"\"}</script></body> </html>>\n"
     ]
    }
   ],
   "source": [
    "print(soup.extract)"
   ]
  },
  {
   "cell_type": "code",
   "execution_count": 14,
   "metadata": {},
   "outputs": [],
   "source": [
    "req = requests.get('https://www.timeanddate.com/worldclock/?sort=1')\n",
    "soup = BeautifulSoup(req.text, \"lxml\")"
   ]
  },
  {
   "cell_type": "code",
   "execution_count": 18,
   "metadata": {},
   "outputs": [],
   "source": [
    "data=[]\n",
    "table = soup.find('table')\n",
    "table_rows = table.find_all('tr')\n",
    "\n",
    "for tr in table_rows:\n",
    "    td = tr.find_all('td')\n",
    "    row = [i.text for i in td]\n",
    "    data.append(row)\n",
    "\n",
    "df = pd.DataFrame(data)\n",
    "df.to_excel('output1.xlsx', header=False, index=False)"
   ]
  },
  {
   "cell_type": "code",
   "execution_count": 22,
   "metadata": {},
   "outputs": [
    {
     "ename": "WebDriverException",
     "evalue": "Message: 'driver' executable may have wrong permissions. Please see https://sites.google.com/a/chromium.org/chromedriver/home\n",
     "output_type": "error",
     "traceback": [
      "\u001b[1;31m---------------------------------------------------------------------------\u001b[0m",
      "\u001b[1;31mPermissionError\u001b[0m                           Traceback (most recent call last)",
      "\u001b[1;32mC:\\ProgramData\\Anaconda3\\lib\\site-packages\\selenium\\webdriver\\common\\service.py\u001b[0m in \u001b[0;36mstart\u001b[1;34m(self)\u001b[0m\n\u001b[0;32m     75\u001b[0m                                             \u001b[0mstderr\u001b[0m\u001b[1;33m=\u001b[0m\u001b[0mself\u001b[0m\u001b[1;33m.\u001b[0m\u001b[0mlog_file\u001b[0m\u001b[1;33m,\u001b[0m\u001b[1;33m\u001b[0m\u001b[1;33m\u001b[0m\u001b[0m\n\u001b[1;32m---> 76\u001b[1;33m                                             stdin=PIPE)\n\u001b[0m\u001b[0;32m     77\u001b[0m         \u001b[1;32mexcept\u001b[0m \u001b[0mTypeError\u001b[0m\u001b[1;33m:\u001b[0m\u001b[1;33m\u001b[0m\u001b[1;33m\u001b[0m\u001b[0m\n",
      "\u001b[1;32mC:\\ProgramData\\Anaconda3\\lib\\subprocess.py\u001b[0m in \u001b[0;36m__init__\u001b[1;34m(self, args, bufsize, executable, stdin, stdout, stderr, preexec_fn, close_fds, shell, cwd, env, universal_newlines, startupinfo, creationflags, restore_signals, start_new_session, pass_fds, encoding, errors, text)\u001b[0m\n\u001b[0;32m    799\u001b[0m                                 \u001b[0merrread\u001b[0m\u001b[1;33m,\u001b[0m \u001b[0merrwrite\u001b[0m\u001b[1;33m,\u001b[0m\u001b[1;33m\u001b[0m\u001b[1;33m\u001b[0m\u001b[0m\n\u001b[1;32m--> 800\u001b[1;33m                                 restore_signals, start_new_session)\n\u001b[0m\u001b[0;32m    801\u001b[0m         \u001b[1;32mexcept\u001b[0m\u001b[1;33m:\u001b[0m\u001b[1;33m\u001b[0m\u001b[1;33m\u001b[0m\u001b[0m\n",
      "\u001b[1;32mC:\\ProgramData\\Anaconda3\\lib\\subprocess.py\u001b[0m in \u001b[0;36m_execute_child\u001b[1;34m(self, args, executable, preexec_fn, close_fds, pass_fds, cwd, env, startupinfo, creationflags, shell, p2cread, p2cwrite, c2pread, c2pwrite, errread, errwrite, unused_restore_signals, unused_start_new_session)\u001b[0m\n\u001b[0;32m   1206\u001b[0m                                          \u001b[0mos\u001b[0m\u001b[1;33m.\u001b[0m\u001b[0mfspath\u001b[0m\u001b[1;33m(\u001b[0m\u001b[0mcwd\u001b[0m\u001b[1;33m)\u001b[0m \u001b[1;32mif\u001b[0m \u001b[0mcwd\u001b[0m \u001b[1;32mis\u001b[0m \u001b[1;32mnot\u001b[0m \u001b[1;32mNone\u001b[0m \u001b[1;32melse\u001b[0m \u001b[1;32mNone\u001b[0m\u001b[1;33m,\u001b[0m\u001b[1;33m\u001b[0m\u001b[1;33m\u001b[0m\u001b[0m\n\u001b[1;32m-> 1207\u001b[1;33m                                          startupinfo)\n\u001b[0m\u001b[0;32m   1208\u001b[0m             \u001b[1;32mfinally\u001b[0m\u001b[1;33m:\u001b[0m\u001b[1;33m\u001b[0m\u001b[1;33m\u001b[0m\u001b[0m\n",
      "\u001b[1;31mPermissionError\u001b[0m: [WinError 5] Access is denied",
      "\nDuring handling of the above exception, another exception occurred:\n",
      "\u001b[1;31mWebDriverException\u001b[0m                        Traceback (most recent call last)",
      "\u001b[1;32m<ipython-input-22-bb9663cb61cc>\u001b[0m in \u001b[0;36m<module>\u001b[1;34m\u001b[0m\n\u001b[0;32m      9\u001b[0m \u001b[1;31m#path_to_webdriver = r\"E:\\notes\\noorain_python\\python Class(30-Aug)\\driver\"\u001b[0m\u001b[1;33m\u001b[0m\u001b[1;33m\u001b[0m\u001b[1;33m\u001b[0m\u001b[0m\n\u001b[0;32m     10\u001b[0m \u001b[1;31m# Start the web session by passing the path and the page url\u001b[0m\u001b[1;33m\u001b[0m\u001b[1;33m\u001b[0m\u001b[1;33m\u001b[0m\u001b[0m\n\u001b[1;32m---> 11\u001b[1;33m \u001b[0mdriver\u001b[0m \u001b[1;33m=\u001b[0m \u001b[0mwebdriver\u001b[0m\u001b[1;33m.\u001b[0m\u001b[0mChrome\u001b[0m\u001b[1;33m(\u001b[0m\u001b[0mpath_to_webdriver\u001b[0m\u001b[1;33m)\u001b[0m\u001b[1;33m\u001b[0m\u001b[1;33m\u001b[0m\u001b[0m\n\u001b[0m\u001b[0;32m     12\u001b[0m \u001b[0mdriver\u001b[0m\u001b[1;33m.\u001b[0m\u001b[0mget\u001b[0m\u001b[1;33m(\u001b[0m\u001b[0mpage_url\u001b[0m\u001b[1;33m)\u001b[0m\u001b[1;33m\u001b[0m\u001b[1;33m\u001b[0m\u001b[0m\n\u001b[0;32m     13\u001b[0m \u001b[0mdriver\u001b[0m\u001b[1;33m.\u001b[0m\u001b[0mmaximize_window\u001b[0m\u001b[1;33m(\u001b[0m\u001b[1;33m)\u001b[0m\u001b[1;33m\u001b[0m\u001b[1;33m\u001b[0m\u001b[0m\n",
      "\u001b[1;32mC:\\ProgramData\\Anaconda3\\lib\\site-packages\\selenium\\webdriver\\chrome\\webdriver.py\u001b[0m in \u001b[0;36m__init__\u001b[1;34m(self, executable_path, port, options, service_args, desired_capabilities, service_log_path, chrome_options, keep_alive)\u001b[0m\n\u001b[0;32m     71\u001b[0m             \u001b[0mservice_args\u001b[0m\u001b[1;33m=\u001b[0m\u001b[0mservice_args\u001b[0m\u001b[1;33m,\u001b[0m\u001b[1;33m\u001b[0m\u001b[1;33m\u001b[0m\u001b[0m\n\u001b[0;32m     72\u001b[0m             log_path=service_log_path)\n\u001b[1;32m---> 73\u001b[1;33m         \u001b[0mself\u001b[0m\u001b[1;33m.\u001b[0m\u001b[0mservice\u001b[0m\u001b[1;33m.\u001b[0m\u001b[0mstart\u001b[0m\u001b[1;33m(\u001b[0m\u001b[1;33m)\u001b[0m\u001b[1;33m\u001b[0m\u001b[1;33m\u001b[0m\u001b[0m\n\u001b[0m\u001b[0;32m     74\u001b[0m \u001b[1;33m\u001b[0m\u001b[0m\n\u001b[0;32m     75\u001b[0m         \u001b[1;32mtry\u001b[0m\u001b[1;33m:\u001b[0m\u001b[1;33m\u001b[0m\u001b[1;33m\u001b[0m\u001b[0m\n",
      "\u001b[1;32mC:\\ProgramData\\Anaconda3\\lib\\site-packages\\selenium\\webdriver\\common\\service.py\u001b[0m in \u001b[0;36mstart\u001b[1;34m(self)\u001b[0m\n\u001b[0;32m     86\u001b[0m                 raise WebDriverException(\n\u001b[0;32m     87\u001b[0m                     \"'%s' executable may have wrong permissions. %s\" % (\n\u001b[1;32m---> 88\u001b[1;33m                         os.path.basename(self.path), self.start_error_message)\n\u001b[0m\u001b[0;32m     89\u001b[0m                 )\n\u001b[0;32m     90\u001b[0m             \u001b[1;32melse\u001b[0m\u001b[1;33m:\u001b[0m\u001b[1;33m\u001b[0m\u001b[1;33m\u001b[0m\u001b[0m\n",
      "\u001b[1;31mWebDriverException\u001b[0m: Message: 'driver' executable may have wrong permissions. Please see https://sites.google.com/a/chromium.org/chromedriver/home\n"
     ]
    }
   ],
   "source": [
    "from selenium import webdriver\n",
    "from bs4 import BeautifulSoup\n",
    "import pandas as pd\n",
    "\n",
    "\n",
    "# Path to the page url and webdriver\n",
    "\n",
    "page_url = 'https://www.naukri.com/step-up-list-of-companies-hiring-during-coronavirus-covid-19'\n",
    "path_to_webdriver = r\"E:\\notes\\noorain_python\\python Class(30-Aug)\\driver\"\n",
    "# Start the web session by passing the path and the page url\n",
    "driver = webdriver.Chrome(path_to_webdriver)\n",
    "driver.get(page_url)\n",
    "driver.maximize_window() \n",
    "driver.implicitly_wait(20)\n",
    "\n",
    "\n",
    "# Find Out all company Name\n",
    "\n",
    "\n",
    "html=BeautifulSoup(driver.page_source, 'lxml')\n",
    "entries = html.find_all('h2', {'class':'company-name'})\n",
    "company_Name = [e.get_text() for e in entries]\n",
    "print(company_Name)\n",
    "\n",
    "# Find Out all company Type\n",
    "\n",
    "entries = html.find_all('span', {'class':'type-name'})\n",
    "company_Type = [e.get_text() for e in entries]\n",
    "print(company_Type)\n",
    "\n",
    "# Find Out all company Opening\n",
    "\n",
    "entries = html.find_all('span', {'class':'company-jobs'})\n",
    "company_Opening = [e.get_text() for e in entries]\n",
    "print(company_Opening)\n",
    "\n",
    "# Find out all Company URL\n",
    "\n",
    "entries = html.find_all('a', {'class':'overlay'})\n",
    "company_url = [e.get('href') for e in entries]\n",
    "print(company_url)\n",
    "\n",
    "\n",
    "# Create Data Frame\n",
    "\n",
    "#concatenate dataframes\n",
    "df = pd.DataFrame({'Company Name' : company_Name, 'Company Type' : company_Type, 'Company Opening' : company_Opening, 'Company url' : company_url})\n",
    "\n",
    "print(df)\n",
    "\n",
    "# Transfer Date into Excel\n",
    "\n",
    "df.to_excel(\"Company Details.xlsx\") "
   ]
  },
  {
   "cell_type": "code",
   "execution_count": null,
   "metadata": {},
   "outputs": [],
   "source": []
  }
 ],
 "metadata": {
  "kernelspec": {
   "display_name": "Python 3",
   "language": "python",
   "name": "python3"
  },
  "language_info": {
   "codemirror_mode": {
    "name": "ipython",
    "version": 3
   },
   "file_extension": ".py",
   "mimetype": "text/x-python",
   "name": "python",
   "nbconvert_exporter": "python",
   "pygments_lexer": "ipython3",
   "version": "3.7.6"
  }
 },
 "nbformat": 4,
 "nbformat_minor": 4
}
