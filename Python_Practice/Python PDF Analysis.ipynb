{
 "cells": [
  {
   "cell_type": "code",
   "execution_count": 2,
   "metadata": {},
   "outputs": [],
   "source": [
    "import PyPDF2\n",
    "import pandas as pd\n",
    "import xlsxwriter \n",
    "import os"
   ]
  },
  {
   "cell_type": "code",
   "execution_count": 2,
   "metadata": {},
   "outputs": [
    {
     "data": {
      "text/plain": [
       "'C:\\\\Users\\\\Sri-Ram\\\\Python_Practice'"
      ]
     },
     "execution_count": 2,
     "metadata": {},
     "output_type": "execute_result"
    }
   ],
   "source": [
    "os.getcwd()"
   ]
  },
  {
   "cell_type": "code",
   "execution_count": 3,
   "metadata": {},
   "outputs": [
    {
     "data": {
      "text/plain": [
       "'C:\\\\Users\\\\Sri-Ram\\\\Python_Practice\\\\testfile.txt'"
      ]
     },
     "execution_count": 3,
     "metadata": {},
     "output_type": "execute_result"
    }
   ],
   "source": [
    "os.path.join('C:\\\\Users\\\\Sri-Ram\\\\Python_Practice', 'testfile.txt')"
   ]
  },
  {
   "cell_type": "markdown",
   "metadata": {},
   "source": [
    "# To Open & Read PDF File"
   ]
  },
  {
   "cell_type": "code",
   "execution_count": 8,
   "metadata": {},
   "outputs": [],
   "source": [
    "pdffileobj = open('E://notes//noorain_python//py_pdf(26-Jul-20)//python_eBook.pdf','rb')\n",
    "pdfreader = PyPDF2.PdfFileReader(pdffileobj)"
   ]
  },
  {
   "cell_type": "markdown",
   "metadata": {},
   "source": [
    "# Tools to get info from PDF file"
   ]
  },
  {
   "cell_type": "code",
   "execution_count": 9,
   "metadata": {},
   "outputs": [
    {
     "name": "stdout",
     "output_type": "stream",
     "text": [
      "87\n",
      "Introduction to Python\n",
      "Heavily based on presentations by \n",
      "    Matt Huenerfauth (Penn State)\n",
      "    Guido van Rossum (Google) \n",
      "    Richard P. Muller (Caltech)\n",
      "    ...Monday, October 19, 2009\n"
     ]
    }
   ],
   "source": [
    "print(pdfreader.getNumPages())\n",
    "pageobj = pdfreader.getPage(0)\n",
    "print(pageobj.extractText())"
   ]
  },
  {
   "cell_type": "markdown",
   "metadata": {},
   "source": [
    "# Create a Notepad File"
   ]
  },
  {
   "cell_type": "code",
   "execution_count": 10,
   "metadata": {},
   "outputs": [],
   "source": [
    "testfile = 'testfile.txt'\n",
    "f = open(testfile, 'a')"
   ]
  },
  {
   "cell_type": "markdown",
   "metadata": {},
   "source": [
    "# To Transfer Pdf data into notepad file"
   ]
  },
  {
   "cell_type": "code",
   "execution_count": 11,
   "metadata": {},
   "outputs": [
    {
     "data": {
      "text/plain": [
       "28576"
      ]
     },
     "execution_count": 11,
     "metadata": {},
     "output_type": "execute_result"
    }
   ],
   "source": [
    "total_page_no = pdfreader.getNumPages()\n",
    "\n",
    "count = 0\n",
    "pdf_all_text = ''\n",
    "\n",
    "while count < total_page_no:\n",
    "    pageobj = pdfreader.getPage(count)\n",
    "    count += 1\n",
    "    pdf_all_text +=pageobj.extractText()\n",
    "    \n",
    "f.write(pdf_all_text)"
   ]
  },
  {
   "cell_type": "markdown",
   "metadata": {},
   "source": [
    "# To read notepad file"
   ]
  },
  {
   "cell_type": "code",
   "execution_count": 8,
   "metadata": {},
   "outputs": [
    {
     "data": {
      "text/plain": [
       "'Introduction to Python\\nHeavily based on presentations by \\n    Matt Huenerfauth (Penn State)\\n    Guido van Rossum (Google) \\n    Richard P. Muller (Caltech)\\n    ...Monday, October 19, 2009       ¥Open source general-purpose language.\\n¥Object Oriented, Procedural, Functional\\n¥Easy to interface with C/ObjC/Java/Fortran\\n¥Easy-ish to interface with C++ (via SWIG)\\n¥Great interactive environment\\n¥Downloads: \\nhttp://www.python.org\\n¥Documentation: \\nhttp://www.python.org/doc/\\n¥Free book: \\nhttp://www.diveintopython.org\\nPython\\nMonday, October 19, 2009       2.5.x / 2.6.x / 3.x ???¥ÒCurrentÓ version is 2.6.x\\n¥ÒMainstreamÓ version is 2.5.x\\n¥The new kid on the block is 3.x\\nYou probably want 2.5.x unless you are starting from \\nscratch. Then maybe 3.x\\nMonday, October 19, 2009Technical Issues\\nInstalling & Running Python\\nMonday, October 19, 2009       Binaries¥Python comes pre-installed with Mac OS X and \\nLinux.¥Windows binaries from \\nhttp://python.org\\n/¥You might not have to do anything!\\nMonday, October 19, 2009       The Python Interpreter\\n¥Interactive interface to Python\\n % python\\nPython 2.5 (r25:51908, May 25 2007, 16:14:04) \\n[GCC 4.1.2 20061115 (prerelease) (SUSE Linux)] on linux2\\nType \"help\", \"copyright\", \"credits\" or \"license\" for more information.\\n>>> ¥Python interpreter evaluates inputs:\\n >>> \\n3*(7+2)\\n 27\\n¥Python prompts with Ô>>>Õ. \\n¥To exit Python:\\n¥CTRL-D\\nMonday, October 19, 2009       Running Programs on UNIX\\n% python filename.py    You could make the *.py file executable and add the \\nfollowing \\n#!/usr/bin/env python\\n to the top to make it \\nrunnable.Monday, October 19, 2009       Batteries Included\\n¥Large collection of proven modules included in the \\nstandard distribution.\\nhttp://docs.python.org/modindex.html\\nMonday, October 19, 2009       numpy¥Offers Matlab-ish capabilities within Python\\n¥Fast array operations\\n¥2D arrays, multi-D arrays, linear algebra etc.\\n¥Downloads: \\nhttp://numpy.scipy.org/\\n¥Tutorial: \\nhttp://www.scipy.org/\\nTentative_NumPy_Tutorial\\nMonday, October 19, 2009       matplotlib\\n¥High quality plotting library.\\n¥Downloads: \\nhttp://matplotlib.sourceforge.net\\n/#!/usr/bin/env pythonimport numpy as npimport matplotlib.mlab as mlabimport matplotlib.pyplot as pltmu, sigma = 100, 15x = mu + sigma*np.random.randn(10000)# the histogram of the datan, bins, patches = plt.hist(x, 50, normed=1, facecolor=\\'green\\', alpha=0.75)# add a \\'best fit\\' liney = mlab.normpdf( bins, mu, sigma)l = plt.plot(bins, y, \\'r--\\', linewidth=1)plt.xlabel(\\'Smarts\\')plt.ylabel(\\'Probability\\')plt.title(r\\'$\\\\mathrm{Histogram\\\\ of\\\\ IQ:}\\\\ \\\\mu=100,\\\\ \\\\sigma=15$\\')plt.axis([40, 160, 0, 0.03])plt.grid(True)plt.show()Monday, October 19, 2009       PyFITS\\n¥FITS I/O made simple:\\n¥Downloads: \\nhttp://www.stsci.edu/resources/\\nsoftware_hardware/pyfits\\n>>> import pyfits>>> hdulist = pyfits.open(Õinput.fitsÕ)>>> hdulist.info() Filename: test1.fits No. Name Type Cards Dimensions Format 0 PRIMARY PrimaryHDU 220 () Int16 1 SCI ImageHDU 61 (800, 800) Float32 2 SCI ImageHDU 61 (800, 800) Float32 3 SCI ImageHDU 61 (800, 800) Float32 4 SCI ImageHDU 61 (800, 800) Float32>>> hdulist[0].header[ÕtargnameÕ] ÕNGC121Õ>>> scidata = hdulist[1].data>>> scidata.shape (800, 800) >>> scidata.dtype.name Õfloat32Õ>>> scidata[30:40,10:20] = scidata[1,4] = 999Monday, October 19, 2009       pyds9 / python-sao\\n¥Interaction with DS9\\n¥Display Python 1-D and 2-D arrays in DS9\\n¥Display FITS files in DS9\\n¥Downloads: Ask Eric Mandel :-)\\n¥Downloads: \\nhttp://code.google.com/p/python-sao/\\nMonday, October 19, 2009       Wrappers for Astronomical Packages\\n¥CasaPy (Casa) \\n¥PYGILDAS (GILDAS)\\n¥ParselTongue (AIPS) \\n¥PyRAF (IRAF) \\n¥PyMIDAS (MIDAS) \\n¥PyIMSL (IMSL)\\nMonday, October 19, 2009       Custom Distributions\\n¥Python(x,y): \\nhttp://www.pythonxy.com\\n/¥Python(x,y) is a free scientific and engineering development \\nsoftware for numerical computations, data analysis and data \\nvisualization\\n¥Sage: \\nhttp://www.sagemath.org/\\n¥Sage is a free open-source  mathematics software system \\nlicensed under the GPL. It combines the power of many existing \\nopen-source packages into a common Python-based interface. \\nMonday, October 19, 2009       Extra Astronomy Links\\n¥iPython (better shell, distributed computing): \\nhttp://ipython.scipy.org\\n/¥SciPy (collection of science tools): \\nhttp://\\nwww.scipy.org\\n/¥Python Astronomy Modules: \\nhttp://\\nastlib.sourceforge.net\\n/¥Python Astronomer Wiki: \\nhttp://macsingularity.org/\\nastrowiki/tiki-index.php?page=python\\n¥AstroPy: \\nhttp://www.astro.washington.edu/users/\\nrowen/AstroPy.html\\n¥Python for Astronomers: \\nhttp://www.iac.es/\\nsieinvens/siepedia/pmwiki.php?n=HOWTOs.EmpezandoPython\\nMonday, October 19, 2009The BasicsMonday, October 19, 2009       A Code Sample\\n x = 34 - 23            # A comment. y = ÒHelloÓ            # Another one. z = 3.45     if z == 3.45 or y == ÒHelloÓ:     x = x + 1     y = y + Ò WorldÓ   # String concat. print x print yMonday, October 19, 2009       Enough to Understand the Code\\n¥Assignment uses \\n= and comparison uses ==.¥For numbers + - * / %\\n are as expected.\\n¥Special use of \\n+ for string concatenation.\\n¥Special use of \\n% for string formatting (as with printf in C)\\n¥Logical operators are words (\\nand, or, not) not \\nsymbols¥The basic printing command is \\nprint.¥The first assignment to a variable creates it.\\n¥Variable types donÕt need to be declared.\\n¥Python figures out the variable types on its own.  \\nMonday, October 19, 2009       Basic Datatypes\\n¥Integers (default for numbers)\\nz = 5 / 2    # Answer is 2, integer division.¥Floats\\nx = 3.456¥Strings\\n¥Can use ÒÓ or ÔÕ to specify.   \\nÒabcÓ  ÔabcÕ  (Same thing.)\\n¥Unmatched can occur within the string.  \\nÒmattÕsÓ¥Use triple double-quotes for multi-line strings or strings than contain both Ô \\nand Ò inside of them:  \\nÒÒÒaÔbÒcÓÓÓMonday, October 19, 2009       Whitespace\\nWhitespace is meaningful in Python: especially \\nindentation and placement of newlines.  \\n¥Use a newline to end a line of code. \\n¥Use \\n\\\\ when must go to next line prematurely.\\n¥No braces { } to mark blocks of code in PythonÉ \\nUse consistent\\n indentation instead.  \\n¥The first line with \\nless\\n indentation is outside of the block.\\n¥The first line with \\nmore\\n indentation starts a nested block\\n¥Often a colon appears at the start of a new block.  \\n(E.g.  for function and class definitions.)\\nMonday, October 19, 2009       Comments\\n¥Start comments with # Ð the rest of line is ignored.\\n¥Can include a Òdocumentation stringÓ as the first line of any \\nnew function or class that you define.\\n¥The development environment, debugger, and other tools use \\nit: itÕs good style to include one.\\ndef my_function(x, y):  ÒÒÒThis is the docstring. This function does blah blah blah.ÓÓÓ# The code would go here... Monday, October 19, 2009       Assignment¥Binding a variable in Python means setting a \\nname to hold a \\nreference\\n to some \\nobject.¥Assignment creates references, not copies\\n¥Names in Python do not have an intrinsic type.  Objects have \\ntypes.\\n¥Python determines the type of the reference automatically based on the \\ndata object assigned to it.\\n¥You create a name the first time it appears on the left side of \\nan assignment expression:    \\n!x = 3\\n¥A reference is deleted via garbage collection after any names \\nbound to it have passed out of scope.\\nMonday, October 19, 2009       Accessing Non-Existent Names\\n¥If you try to access a name before itÕs been properly created \\n(by placing it on the left side of an assignment), youÕll get an \\nerror.  \\n>>> yTraceback (most recent call last):  File \"<pyshell#16>\", line 1, in -toplevel-    yNameError: name Ôy\\' is not defined>>> y = 3>>> y3Monday, October 19, 2009       Multiple Assignment\\n¥You can also assign to multiple names at the same time.  \\n>>> x, y = 2, 3>>> x2>>> y3 Monday, October 19, 2009       Naming Rules¥Names are case sensitive and cannot start with a number.  \\nThey can contain letters, numbers, and underscores.\\n bob  Bob  _bob  _2_bob_  bob_2  BoB¥There are some reserved words: and, assert, break, class, continue, def, del, elif, else, except, exec, finally, for, from, global, if, import, in, is, lambda, not, or, pass, print, raise, return, try, whileMonday, October 19, 2009Understanding Reference Semantics in \\nPython\\nMonday, October 19, 2009       Understanding Reference Semantics\\n¥Assignment manipulates references\\nÑx = y \\ndoes not make a copy\\n of the object y references\\nÑx = y makes x \\nreference\\n the object y references\\n¥Very useful; but beware!\\n¥Example:\\n>>> a = [1, 2, 3] # a now references the list [1, 2, 3]\\n>>> b = a # b now references what a references\\n>>> a.append(4) # this \\nchanges\\n the list a references \\n>>> print b # if we print what b references,\\n[1, 2, 3, 4] # SURPRISE!  It has changedÉ\\n Why??Monday, October 19, 2009       Understanding Reference Semantics II\\n¥There is a lot going on when we type:\\nx = 3¥First, an integer \\n3 is created and stored in memory\\n¥A name \\nx is created\\n¥An reference\\n to the memory location storing the \\n3 is then \\nassigned to the name \\nx¥So:  When we say that the value of \\nx is 3 ¥we mean that \\nx now refers to the integer \\n3Type: Integer\\nData: 3\\nName: x\\nRef: <address1>\\nname list\\nmemory\\nMonday, October 19, 2009       Understanding Reference Semantics III\\n¥The data 3 we created is of type integer.  In Python, the \\ndatatypes integer, float, and string (and tuple) are \\nÒimmutable.Ó\\n¥This doesnÕt mean we canÕt change the value of x, i.e. \\nchange what x refers to\\n É \\n¥For example, we could increment x:\\n>>> x = 3>>> x = x + 1>>> print x4Monday, October 19, 2009       Understanding Reference Semantics IV\\n¥If we increment x, then whatÕs really happening is:\\n1.The reference of name \\nx is looked up.\\n2.The value at that reference is retrieved.\\nType: Integer\\nData: 3\\nName: x\\nRef: <address1>\\n>>> x = x + 1Monday, October 19, 2009       Understanding Reference Semantics IV\\n¥If we increment x, then whatÕs really happening is:\\n1.The reference of name \\nx is looked up.\\n2.The value at that reference is retrieved.\\n3.The 3+1 calculation occurs, producing a new data element \\n4 which is \\nassigned to a fresh memory location with a new reference.\\nType: Integer\\nData: 3\\nName: x\\nRef: <address1>\\nType: Integer\\nData: 4\\n>>> x = x + 1Monday, October 19, 2009       Understanding Reference Semantics IV\\n¥If we increment x, then whatÕs really happening is:\\n1.The reference of name \\nx is looked up.\\n2.The value at that reference is retrieved.\\n3.The 3+1 calculation occurs, producing a new data element \\n4 which is \\nassigned to a fresh memory location with a new reference.\\n4.The name \\nx is changed to point to this new reference.\\nType: Integer\\nData: 3\\nName: x\\nRef: <address1>\\nType: Integer\\nData: 4\\n>>> x = x + 1Monday, October 19, 2009       Understanding Reference Semantics IV\\n¥If we increment x, then whatÕs really happening is:\\n1.The reference of name \\nx is looked up.\\n2.The value at that reference is retrieved.\\n3.The 3+1 calculation occurs, producing a new data element \\n4 which is \\nassigned to a fresh memory location with a new reference.\\n4.The name \\nx is changed to point to this new reference.\\n5.The old data 3 is garbage collected if no name still refers to it.\\nName: x\\nRef: <address1>\\nType: Integer\\nData: 4\\n>>> x = x + 1Monday, October 19, 2009       Assignment 1\\n¥So, for simple built-in datatypes (integers, floats, strings), \\nassignment behaves as you would expect:\\n>>> x = 3       # Creates 3, name x refers to 3 >>> y = x       # Creates name y, refers to 3.>>> y = 4       # Creates ref for 4. Changes y.>>> print x     # No effect on x, still ref 3.3Monday, October 19, 2009       Assignment 1\\n¥So, for simple built-in datatypes (integers, floats, strings), \\nassignment behaves as you would expect:\\n>>> x = 3       # Creates 3, name x refers to 3 >>> y = x       # Creates name y, refers to 3.>>> y = 4       # Creates ref for 4. Changes y.>>> print x     # No effect on x, still ref 3.3Type: Integer\\nData: 3\\nName: x\\nRef: <address1>\\nMonday, October 19, 2009       Assignment 1\\n¥So, for simple built-in datatypes (integers, floats, strings), \\nassignment behaves as you would expect:\\n>>> x = 3       # Creates 3, name x refers to 3 >>> y = x       # Creates name y, refers to 3.>>> y = 4       # Creates ref for 4. Changes y.>>> print x     # No effect on x, still ref 3.3Type: Integer\\nData: 3\\nName: x\\nRef: <address1>\\nName: y\\nRef: <address1>\\nMonday, October 19, 2009       Assignment 1\\n¥So, for simple built-in datatypes (integers, floats, strings), \\nassignment behaves as you would expect:\\n>>> x = 3       # Creates 3, name x refers to 3 >>> y = x       # Creates name y, refers to 3.>>> y = 4       # Creates ref for 4. Changes y.>>> print x     # No effect on x, still ref 3.3Type: Integer\\nData: 3\\nName: x\\nRef: <address1>\\nType: Integer\\nData: 4\\nName: y\\nRef: <address1>\\nMonday, October 19, 2009       Assignment 1\\n¥So, for simple built-in datatypes (integers, floats, strings), \\nassignment behaves as you would expect:\\n>>> x = 3       # Creates 3, name x refers to 3 >>> y = x       # Creates name y, refers to 3.>>> y = 4       # Creates ref for 4. Changes y.>>> print x     # No effect on x, still ref 3.3Type: Integer\\nData: 3\\nName: x\\nRef: <address1>\\nType: Integer\\nData: 4\\nName: y\\nRef: <address2>\\nMonday, October 19, 2009       Assignment 1\\n¥So, for simple built-in datatypes (integers, floats, strings), \\nassignment behaves as you would expect:\\n>>> x = 3       # Creates 3, name x refers to 3 >>> y = x       # Creates name y, refers to 3.>>> y = 4       # Creates ref for 4. Changes y.>>> print x     # No effect on x, still ref 3.3Type: Integer\\nData: 3\\nName: x\\nRef: <address1>\\nType: Integer\\nData: 4\\nName: y\\nRef: <address2>\\nMonday, October 19, 2009       Assignment 2\\n¥For other data types (lists, dictionaries, user-defined types), assignment \\nworks differently.  \\n¥These datatypes are \\nÒmutable.Ó\\n  ¥When we change these data, we do it \\nin place. \\n ¥We donÕt copy them into a new memory address each time.  \\n¥If we type y=x and then modify y, both x and y are changed.\\n>>> x = 3    \\nx = some mutable object>>> y = x    y = x\\n>>> y = 4    make a change to y\\n>>> print x    look at x\\n3      \\nx will be changed as wellimmutable\\nmutable\\nMonday, October 19, 2009       a123ba123b4a = [1, 2, 3]\\na.append(4)\\nb = a\\na123Why? Changing a Shared List\\nMonday, October 19, 2009       Our surprising example surprising no more...¥So now, hereÕs our code:\\n>>> a = [1, 2, 3] # a now references the list [1, 2, 3]\\n>>> b = a # b now references what a references\\n>>> a.append(4) # this \\nchanges\\n the list a references \\n>>> print b # if we print what b references,\\n[1, 2, 3, 4] # SURPRISE!  It has changedÉ\\nMonday, October 19, 2009Sequence types:\\n Tuples, Lists, and Strings\\nMonday, October 19, 2009       Sequence Types\\n1.Tuple\\n¥A simple \\nimmutable\\n ordered sequence of items\\n¥Items can be of mixed types, including collection types\\n2.Strings\\n¥Immutable\\n¥Conceptually very much like a tuple\\n3.List\\n¥Mutable\\n ordered sequence of items of mixed types\\nMonday, October 19, 2009       Similar Syntax\\n¥All three sequence types (tuples, strings, and lists) \\nshare much of the same syntax and functionality.\\n¥Key difference: \\n¥Tuples and strings are \\nimmutable\\n¥ Lists are \\nmutable\\n¥The operations shown in this section can be \\napplied to all sequence types\\n¥most examples will just show the operation \\nperformed on one\\nMonday, October 19, 2009       Sequence Types 1\\n¥Tuples are defined using parentheses (and commas).\\n>>> tu = (23, ÔabcÕ, 4.56, (2,3), ÔdefÕ)¥Lists are defined using square brackets (and commas).\\n>>> li = [ÒabcÓ, 34, 4.34, 23]¥Strings are defined using quotes (Ò, Ô, or ÒÒÒ).\\n>>> st = ÒHello WorldÓ>>> st = ÔHello WorldÕ>>> st = ÒÒÒThis is a multi-linestring that uses triple quotes.ÓÓÓMonday, October 19, 2009       Sequence Types 2\\n¥We can access individual members of a tuple, list, or string \\nusing square bracket ÒarrayÓ notation. \\n¥Note that all are 0 basedÉ \\n>>> tu = (23, ÔabcÕ, 4.56, (2,3), ÔdefÕ)>>> tu[1]     # Second item in the tuple. ÔabcÕ>>> li = [ÒabcÓ, 34, 4.34, 23] >>> li[1]      # Second item in the list. 34>>> st = ÒHello WorldÓ>>> st[1]   # Second character in string. ÔeÕMonday, October 19, 2009       Positive and negative indices\\n>>> t = (23, ÔabcÕ, 4.56, (2,3), ÔdefÕ)Positive index: count from the left, starting with 0.\\n  >>> t[1]   ÔabcÕ\\nNegative lookup: count from right, starting with Ð1.\\n  >>> t[-3]   4.56\\nMonday, October 19, 2009       Slicing: Return Copy of a Subset 1\\n>>> t = (23, ÔabcÕ, 4.56, (2,3), ÔdefÕ)Return a copy of the container with a subset of the original \\nmembers.  Start copying at the first index, and stop copying \\nbefore\\n the second index. \\n  >>> t[1:4] \\n  (ÔabcÕ, 4.56, (2,3))\\nYou can also use negative indices when slicing. \\n  >>> t[1:-1]  (ÔabcÕ, 4.56, (2,3))\\nMonday, October 19, 2009       Slicing: Return Copy of a Subset 2\\n>>> t = (23, ÔabcÕ, 4.56, (2,3), ÔdefÕ)Omit the first index to make a copy starting from the beginning \\nof the container.\\n  >>> t[:2]   (23, ÔabcÕ)\\nOmit the second index to make a copy starting at the first index \\nand going to the end of the container.\\n  >>> t[2:]  (4.56, (2,3), ÔdefÕ)\\nMonday, October 19, 2009       Copying the Whole Sequence\\nTo make a \\ncopy of an entire sequence, you can use \\n[:]. >>> t[:]  (23, ÔabcÕ, 4.56, (2,3), ÔdefÕ)\\nNote the difference between these two lines for mutable \\nsequences:>>> list2 = list1 # 2 names refer to 1 ref\\n      # Changing one affects both\\n>>> list2 = list1[:] # Two independent copies, two refs\\n                  \\nMonday, October 19, 2009       The ÔinÕ Operator\\n¥Boolean test whether a value is inside a container:\\n>>> t = [1, 2, 4, 5]>>> 3 in tFalse>>> 4 in tTrue>>> 4 not in tFalse¥For strings, tests for substrings\\n>>> a = \\'abcde\\'>>> \\'c\\' in aTrue>>> \\'cd\\' in aTrue>>> \\'ac\\' in aFalse¥Be careful: the \\nin keyword is also used in the syntax of \\nfor\\n loops and list comprehensions\\n.Monday, October 19, 2009       The + Operator\\n¥The + operator produces a \\nnew  tuple, list, or string whose \\nvalue is the concatenation of its arguments.\\n>>> (1, 2, 3) + (4, 5, 6) (1, 2, 3, 4, 5, 6)>>> [1, 2, 3] + [4, 5, 6] [1, 2, 3, 4, 5, 6]>>> ÒHelloÓ + Ò Ó + ÒWorldÓ ÔHello WorldÕMonday, October 19, 2009       The * Operator\\n¥The * operator produces a \\nnew tuple, list, or string that \\nÒrepeatsÓ the original content.\\n>>> (1, 2, 3) * 3(1, 2, 3, 1, 2, 3, 1, 2, 3)>>> [1, 2, 3] * 3[1, 2, 3, 1, 2, 3, 1, 2, 3]>>> ÒHelloÓ * 3ÔHelloHelloHelloÕMonday, October 19, 2009Mutability:\\nTuples vs. Lists\\nMonday, October 19, 2009       Tuples: Immutable\\n>>> t = (23, ÔabcÕ, 4.56, (2,3), ÔdefÕ)>>> t[2] = 3.14Traceback (most recent call last):  File \"<pyshell#75>\", line 1, in -toplevel-    tu[2] = 3.14TypeError: object doesn\\'t support item assignmentYou canÕt change a tuple. \\nYou can make a fresh tuple and assign its reference to a previously used \\nname. >>>\\n t = (23, ÔabcÕ, 3.14, (2,3), ÔdefÕ)Monday, October 19, 2009       Lists: Mutable\\n>>> li = [ÔabcÕ, 23, 4.34, 23]>>> li[1] = 45 >>> li[ÔabcÕ, 45, 4.34, 23]¥We can change lists \\nin place. ¥Name li still points to the same memory reference when weÕre \\ndone. ¥The mutability of lists means that  they arenÕt as fast as tuples. \\nMonday, October 19, 2009       Operations on Lists Only 1 \\n>>> li = [1, 11, 3, 4, 5]>>> li.append(ÔaÕ) # Our first exposure to \\nmethod syntax>>> li[1, 11, 3, 4, 5, ÔaÕ]>>> li.insert(2, ÔiÕ)>>>li[1, 11, ÔiÕ, 3, 4, 5, ÔaÕ]Monday, October 19, 2009       The extend\\n method vs the  \\n+ operator.  \\n¥+ creates a fresh list (with a new memory reference)\\n¥extend\\n operates on list \\nli in place.>>> li.extend([9, 8, 7])           >>>li[1, 2, ÔiÕ, 3, 4, 5, ÔaÕ, 9, 8, 7]Confusing\\n: ¥Extend takes a list as an argument. \\n¥Append takes a singleton as an argument.\\n>>> li.append([10, 11, 12])>>> li[1, 2, ÔiÕ, 3, 4, 5, ÔaÕ, 9, 8, 7, [10, 11, 12]]Monday, October 19, 2009       Operations on Lists Only 3\\n>>> li = [ÔaÕ, ÔbÕ, ÔcÕ, ÔbÕ]>>> li.index(ÔbÕ)     # index of first occurrence1>>> li.count(ÔbÕ)     # number of occurrences2>>> li.remove(ÔbÕ)    # remove first occurrence>>> li  [ÔaÕ, ÔcÕ, ÔbÕ]Monday, October 19, 2009       Operations on Lists Only 4\\n>>> li = [5, 2, 6, 8]>>> li.reverse()    # reverse the list *in place*>>> li  [8, 6, 2, 5]>>> li.sort()       # sort the list *in place*>>> li  [2, 5, 6, 8]>>> li.sort(some_function)      # sort in place using user-defined comparisonMonday, October 19, 2009       Tuples vs. Lists\\n¥Lists slower but more powerful than tuples.\\n¥Lists can be modified, and they have lots of handy operations we can \\nperform on them.\\n¥Tuples are immutable and have fewer features.\\n¥To convert between tuples and lists use the list() and tuple() \\nfunctions:\\nli = list(tu)tu = tuple(li)Monday, October 19, 2009Dictionaries\\n63Monday, October 19, 2009       Dictionaries: A Mapping type\\n¥Dictionaries store a mapping between a set of keys \\nand a set of values.\\n¥Keys can be any immutable type.\\n¥Values can be any type\\n¥A single dictionary can store values of different types\\n¥You can define, modify, view, lookup, and delete \\nthe key-value pairs in the dictionary.\\nMonday, October 19, 2009       Using dictionaries\\n>>> d = {ÔuserÕ:ÔbozoÕ, ÔpswdÕ:1234}>>> d[ÔuserÕ] ÔbozoÕ>>> d[ÔpswdÕ]1234>>> d[ÔbozoÕ]Traceback (innermost last):  File Ô<interactive input>Õ line 1, in ?KeyError: bozo>>> d = {ÔuserÕ:ÔbozoÕ, ÔpswdÕ:1234}>>> d[ÔuserÕ] = ÔclownÕ>>> d{ÔuserÕ:ÔclownÕ, ÔpswdÕ:1234}>>> d[ÔidÕ] = 45>>> d{ÔuserÕ:ÔclownÕ, ÔidÕ:45, ÔpswdÕ:1234}>>> d = {ÔuserÕ:ÔbozoÕ, ÔpÕ:1234, ÔiÕ:34}>>> del d[ÔuserÕ]           # Remove one.>>> d{ÔpÕ:1234, ÔiÕ:34}>>> d.clear()               # Remove all.>>> d{}>>> d = {ÔuserÕ:ÔbozoÕ, ÔpÕ:1234, ÔiÕ:34}>>> d.keys()            # List of keys.[ÔuserÕ, ÔpÕ, ÔiÕ]>>> d.values()          # List of values.[ÔbozoÕ, 1234, 34]>>> d.items()      # List of item tuples.[(ÔuserÕ,ÔbozoÕ), (ÔpÕ,1234), (ÔiÕ,34)]Monday, October 19, 2009Functions\\nMonday, October 19, 2009       Functions\\n¥def creates a function and assigns it a name\\n¥return sends a result back to the caller\\n¥Arguments are passed by assignment\\n¥Arguments and return types are not declared\\n     def <name>(arg1, arg2, ..., argN):!<statements>\\n!return <value>\\ndef times(x,y):!return x*y\\nMonday, October 19, 2009       Passing Arguments to Functions\\n¥Arguments are passed by assignment\\n¥Passed arguments are assigned to local names\\n¥Assignment to argument names don\\'t affect the \\ncaller¥Changing a mutable argument may affect the caller\\ndef changer (x,y):!x = 2\\n!!!\\n# changes local value of x only\\n!y[0] = \\'hi\\'\\n!!\\n      # changes shared object\\nMonday, October 19, 2009       Optional Arguments\\n¥Can define defaults for arguments that need not be \\npassed     def func(a, b, c=10, d=100):!print a, b, c, d\\n>>> func(1,2)1 2 10 100>>> func(1,2,3,4)1,2,3,4Monday, October 19, 2009       Gotchas\\n¥All functions in Python have a return value\\n¥even if no return line inside the code.\\n¥Functions without a return return the special value \\nNone.¥There is no function overloading in Python.\\n¥Two different functions canÕt have the same name, even if they \\nhave different arguments.\\n¥Functions can be used as any other data type. \\nThey can be:¥Arguments to function\\n¥Return values of functions\\n¥Assigned to variables\\n¥Parts of tuples, lists, etc\\nMonday, October 19, 2009Control of Flow\\n71Monday, October 19, 2009       Examples\\nif x == 3: print ÒX equals 3.Óelif x == 2: print ÒX equals 2.Óelse: print ÒX equals something else.Óprint ÒThis is outside the ÔifÕ.Óx = 3while x < 10:   if x > 7:       x += 2       continue   x = x + 1   print ÒStill in the loop.Ó   if x == 8:       breakprint ÒOutside of the loop.Óassert(number_of_players < 5) for x in range(10):   if x > 7:       x += 2       continue   x = x + 1   print ÒStill in the loop.Ó   if x == 8:       breakprint ÒOutside of the loop.ÓMonday, October 19, 2009Modules\\nMonday, October 19, 2009       Why Use Modules?\\n¥Code reuse¥Routines can be called multiple times within a program\\n¥Routines can be used from multiple programs\\n¥Namespace partitioning\\n¥Group data together with functions used for that data\\n¥Implementing shared services or data\\n¥Can provide global data structure that is accessed by multiple \\nsubprograms\\nMonday, October 19, 2009       Modules\\n¥Modules are functions and variables defined in \\nseparate files\\n¥Items are imported using from or import\\n    from module import functionfunction()import modulemodule.function()¥Modules are namespaces\\n¥Can be used to organize variable names, i.e.\\n  atom.position = atom.position - molecule.positionMonday, October 19, 2009Classes and Objects\\nMonday, October 19, 2009       What is an Object?\\n¥A software item that contains variables and \\nmethods\\n¥Object Oriented Design focuses on\\n¥Encapsulation: \\nÑdividing the code into a public interface, and a private implementation \\nof that interface\\n¥Polymorphism:\\nÑthe ability to overload standard operators so that they have appropriate \\nbehavior based on their context\\n¥Inheritance:\\nÑthe ability to create subclasses that contain specializations of their \\nparents\\nMonday, October 19, 2009       Example\\nclass atom(object):!def __init__(self,atno,x,y,z):\\n!!\\nself.atno = atno\\n!!\\nself.position = (x,y,z)\\n!def symbol(self):   \\n# a class method!!\\nreturn Atno_to_Symbol[atno]\\n!def __repr__(self): \\n# overloads printing!!\\nreturn \\'%d %10.4f %10.4f %10.4f\\' %\\n!!!\\n(self.atno, self.position[0],\\n!!!\\n self.position[1],self.position[2])\\n>>> at = atom(6,0.0,1.0,2.0)>>> print at6  0.0000  1.0000 2.0000>>> at.symbol()\\'C\\'Monday, October 19, 2009       Atom Class\\n¥Overloaded the default constructor\\n¥Defined class variables (atno,position) that are \\npersistent and local to the atom object\\n¥Good way to manage shared memory:\\n¥instead of passing long lists of arguments, encapsulate some of \\nthis data into an object, and pass the object.\\n¥much cleaner programs result\\n¥Overloaded the print operator\\n¥We now want to use the atom class to build \\nmolecules...Monday, October 19, 2009       Molecule Class\\nclass molecule:!def __init__(self,name=\\'Generic\\'):\\n!!\\nself.name = name\\n!!\\nself.atomlist = []\\n!def addatom(self,atom):\\n!!\\nself.atomlist.append(atom)\\n!def __repr__(self):\\n!!\\nstr = \\'This is a molecule named %s\\\\n\\' % self.name\\n!!\\nstr = str+\\'It has %d atoms\\\\n\\' % len(self.atomlist)\\n!!\\nfor atom in self.atomlist:\\n!!!\\nstr = str + `atom` + \\'\\\\n\\'\\n!!\\nreturn str\\nMonday, October 19, 2009       Using Molecule Class\\n           >>> mol = molecule(\\'Water\\')>>> at = atom(8,0.,0.,0.)>>> mol.addatom(at)>>> mol.addatom(atom(1,0.,0.,1.))>>> mol.addatom(atom(1,0.,1.,0.))>>> print molThis is a molecule named WaterIt has 3 atoms8  0.000 0.000 0.0001  0.000 0.000 1.0001  0.000 1.000 0.000¥Note that the print function calls the atoms print \\nfunction\\n¥Code reuse: only have to type the code that prints an atom \\nonce; this means that if you change the atom specification, you \\nonly have one place to update.\\nMonday, October 19, 2009       Inheritance\\n           class qm_molecule(molecule):  def addbasis(self):    self.basis = []    for atom in self.atomlist:      self.basis = add_bf(atom,self.basis)¥__init__, __repr__, and __addatom__ are taken \\nfrom the parent class (molecule)\\n¥Added a new function addbasis() to add a basis set\\n¥Another example of code reuse\\n¥Basic functions don\\'t have to be retyped, just inherited\\n¥Less to rewrite when specifications change\\nMonday, October 19, 2009       Overloading           class qm_molecule(molecule):         def __repr__(self):!!\\n     str = \\'QM Rules!\\\\n\\'\\n!!\\n     for atom in self.atomlist:\\n!!!\\n str = str + `atom` + \\'\\\\n\\'\\n!!\\n     return str\\n¥Now we only inherit __init__ and addatom from the \\nparent¥We define a new version of __repr__ specially for \\nQMMonday, October 19, 2009       Adding to Parent Functions\\n¥Sometimes you want to extend, rather than \\nreplace, the parent functions.\\n           class qm_molecule(molecule):!       def __init__(self,name=\"Generic\",basis=\"6-31G**\"):\\n!!\\n    self.basis = basis\\n!!\\n    super(qm_molecule, self).__init__(name)\\nMonday, October 19, 2009       Public and Private Data\\n¥In Python anything with two leading underscores \\nis private\\n         __a, __my_variable\\n¥Anything with one leading underscore is semi-\\nprivate, and you should feel guilty accessing this \\ndata directly.\\n         _b¥Sometimes useful as an intermediate step to making data \\nprivate\\nMonday, October 19, 2009The Extra Stuff...\\n86Monday, October 19, 2009       File I/O, Strings, Exceptions...\\nfileptr = open(ÔfilenameÕ)somestring = fileptr.read()for line in fileptr:   print linefileptr.close()>>> a = 1>>> b = 2.4>>> c = \\'Tom\\'>>> \\'%s has %d coins worth a total of $%.02f\\' % (c, a, b)\\'Tom has 1 coins worth a total of $2.40\\'>>> try:...     1 / 0... except:...     print(\\'That was silly!\\')... finally:...     print(\\'This gets executed no matter what\\')... That was silly!This gets executed no matter whatMonday, October 19, 2009Introduction to Python\\nHeavily based on presentations by \\n    Matt Huenerfauth (Penn State)\\n    Guido van Rossum (Google) \\n    Richard P. Muller (Caltech)\\n    ...Monday, October 19, 2009       ¥Open source general-purpose language.\\n¥Object Oriented, Procedural, Functional\\n¥Easy to interface with C/ObjC/Java/Fortran\\n¥Easy-ish to interface with C++ (via SWIG)\\n¥Great interactive environment\\n¥Downloads: \\nhttp://www.python.org\\n¥Documentation: \\nhttp://www.python.org/doc/\\n¥Free book: \\nhttp://www.diveintopython.org\\nPython\\nMonday, October 19, 2009       2.5.x / 2.6.x / 3.x ???¥ÒCurrentÓ version is 2.6.x\\n¥ÒMainstreamÓ version is 2.5.x\\n¥The new kid on the block is 3.x\\nYou probably want 2.5.x unless you are starting from \\nscratch. Then maybe 3.x\\nMonday, October 19, 2009Technical Issues\\nInstalling & Running Python\\nMonday, October 19, 2009       Binaries¥Python comes pre-installed with Mac OS X and \\nLinux.¥Windows binaries from \\nhttp://python.org\\n/¥You might not have to do anything!\\nMonday, October 19, 2009       The Python Interpreter\\n¥Interactive interface to Python\\n % python\\nPython 2.5 (r25:51908, May 25 2007, 16:14:04) \\n[GCC 4.1.2 20061115 (prerelease) (SUSE Linux)] on linux2\\nType \"help\", \"copyright\", \"credits\" or \"license\" for more information.\\n>>> ¥Python interpreter evaluates inputs:\\n >>> \\n3*(7+2)\\n 27\\n¥Python prompts with Ô>>>Õ. \\n¥To exit Python:\\n¥CTRL-D\\nMonday, October 19, 2009       Running Programs on UNIX\\n% python filename.py    You could make the *.py file executable and add the \\nfollowing \\n#!/usr/bin/env python\\n to the top to make it \\nrunnable.Monday, October 19, 2009       Batteries Included\\n¥Large collection of proven modules included in the \\nstandard distribution.\\nhttp://docs.python.org/modindex.html\\nMonday, October 19, 2009       numpy¥Offers Matlab-ish capabilities within Python\\n¥Fast array operations\\n¥2D arrays, multi-D arrays, linear algebra etc.\\n¥Downloads: \\nhttp://numpy.scipy.org/\\n¥Tutorial: \\nhttp://www.scipy.org/\\nTentative_NumPy_Tutorial\\nMonday, October 19, 2009       matplotlib\\n¥High quality plotting library.\\n¥Downloads: \\nhttp://matplotlib.sourceforge.net\\n/#!/usr/bin/env pythonimport numpy as npimport matplotlib.mlab as mlabimport matplotlib.pyplot as pltmu, sigma = 100, 15x = mu + sigma*np.random.randn(10000)# the histogram of the datan, bins, patches = plt.hist(x, 50, normed=1, facecolor=\\'green\\', alpha=0.75)# add a \\'best fit\\' liney = mlab.normpdf( bins, mu, sigma)l = plt.plot(bins, y, \\'r--\\', linewidth=1)plt.xlabel(\\'Smarts\\')plt.ylabel(\\'Probability\\')plt.title(r\\'$\\\\mathrm{Histogram\\\\ of\\\\ IQ:}\\\\ \\\\mu=100,\\\\ \\\\sigma=15$\\')plt.axis([40, 160, 0, 0.03])plt.grid(True)plt.show()Monday, October 19, 2009       PyFITS\\n¥FITS I/O made simple:\\n¥Downloads: \\nhttp://www.stsci.edu/resources/\\nsoftware_hardware/pyfits\\n>>> import pyfits>>> hdulist = pyfits.open(Õinput.fitsÕ)>>> hdulist.info() Filename: test1.fits No. Name Type Cards Dimensions Format 0 PRIMARY PrimaryHDU 220 () Int16 1 SCI ImageHDU 61 (800, 800) Float32 2 SCI ImageHDU 61 (800, 800) Float32 3 SCI ImageHDU 61 (800, 800) Float32 4 SCI ImageHDU 61 (800, 800) Float32>>> hdulist[0].header[ÕtargnameÕ] ÕNGC121Õ>>> scidata = hdulist[1].data>>> scidata.shape (800, 800) >>> scidata.dtype.name Õfloat32Õ>>> scidata[30:40,10:20] = scidata[1,4] = 999Monday, October 19, 2009       pyds9 / python-sao\\n¥Interaction with DS9\\n¥Display Python 1-D and 2-D arrays in DS9\\n¥Display FITS files in DS9\\n¥Downloads: Ask Eric Mandel :-)\\n¥Downloads: \\nhttp://code.google.com/p/python-sao/\\nMonday, October 19, 2009       Wrappers for Astronomical Packages\\n¥CasaPy (Casa) \\n¥PYGILDAS (GILDAS)\\n¥ParselTongue (AIPS) \\n¥PyRAF (IRAF) \\n¥PyMIDAS (MIDAS) \\n¥PyIMSL (IMSL)\\nMonday, October 19, 2009       Custom Distributions\\n¥Python(x,y): \\nhttp://www.pythonxy.com\\n/¥Python(x,y) is a free scientific and engineering development \\nsoftware for numerical computations, data analysis and data \\nvisualization\\n¥Sage: \\nhttp://www.sagemath.org/\\n¥Sage is a free open-source  mathematics software system \\nlicensed under the GPL. It combines the power of many existing \\nopen-source packages into a common Python-based interface. \\nMonday, October 19, 2009       Extra Astronomy Links\\n¥iPython (better shell, distributed computing): \\nhttp://ipython.scipy.org\\n/¥SciPy (collection of science tools): \\nhttp://\\nwww.scipy.org\\n/¥Python Astronomy Modules: \\nhttp://\\nastlib.sourceforge.net\\n/¥Python Astronomer Wiki: \\nhttp://macsingularity.org/\\nastrowiki/tiki-index.php?page=python\\n¥AstroPy: \\nhttp://www.astro.washington.edu/users/\\nrowen/AstroPy.html\\n¥Python for Astronomers: \\nhttp://www.iac.es/\\nsieinvens/siepedia/pmwiki.php?n=HOWTOs.EmpezandoPython\\nMonday, October 19, 2009The BasicsMonday, October 19, 2009       A Code Sample\\n x = 34 - 23            # A comment. y = ÒHelloÓ            # Another one. z = 3.45     if z == 3.45 or y == ÒHelloÓ:     x = x + 1     y = y + Ò WorldÓ   # String concat. print x print yMonday, October 19, 2009       Enough to Understand the Code\\n¥Assignment uses \\n= and comparison uses ==.¥For numbers + - * / %\\n are as expected.\\n¥Special use of \\n+ for string concatenation.\\n¥Special use of \\n% for string formatting (as with printf in C)\\n¥Logical operators are words (\\nand, or, not) not \\nsymbols¥The basic printing command is \\nprint.¥The first assignment to a variable creates it.\\n¥Variable types donÕt need to be declared.\\n¥Python figures out the variable types on its own.  \\nMonday, October 19, 2009       Basic Datatypes\\n¥Integers (default for numbers)\\nz = 5 / 2    # Answer is 2, integer division.¥Floats\\nx = 3.456¥Strings\\n¥Can use ÒÓ or ÔÕ to specify.   \\nÒabcÓ  ÔabcÕ  (Same thing.)\\n¥Unmatched can occur within the string.  \\nÒmattÕsÓ¥Use triple double-quotes for multi-line strings or strings than contain both Ô \\nand Ò inside of them:  \\nÒÒÒaÔbÒcÓÓÓMonday, October 19, 2009       Whitespace\\nWhitespace is meaningful in Python: especially \\nindentation and placement of newlines.  \\n¥Use a newline to end a line of code. \\n¥Use \\n\\\\ when must go to next line prematurely.\\n¥No braces { } to mark blocks of code in PythonÉ \\nUse consistent\\n indentation instead.  \\n¥The first line with \\nless\\n indentation is outside of the block.\\n¥The first line with \\nmore\\n indentation starts a nested block\\n¥Often a colon appears at the start of a new block.  \\n(E.g.  for function and class definitions.)\\nMonday, October 19, 2009       Comments\\n¥Start comments with # Ð the rest of line is ignored.\\n¥Can include a Òdocumentation stringÓ as the first line of any \\nnew function or class that you define.\\n¥The development environment, debugger, and other tools use \\nit: itÕs good style to include one.\\ndef my_function(x, y):  ÒÒÒThis is the docstring. This function does blah blah blah.ÓÓÓ# The code would go here... Monday, October 19, 2009       Assignment¥Binding a variable in Python means setting a \\nname to hold a \\nreference\\n to some \\nobject.¥Assignment creates references, not copies\\n¥Names in Python do not have an intrinsic type.  Objects have \\ntypes.\\n¥Python determines the type of the reference automatically based on the \\ndata object assigned to it.\\n¥You create a name the first time it appears on the left side of \\nan assignment expression:    \\n!x = 3\\n¥A reference is deleted via garbage collection after any names \\nbound to it have passed out of scope.\\nMonday, October 19, 2009       Accessing Non-Existent Names\\n¥If you try to access a name before itÕs been properly created \\n(by placing it on the left side of an assignment), youÕll get an \\nerror.  \\n>>> yTraceback (most recent call last):  File \"<pyshell#16>\", line 1, in -toplevel-    yNameError: name Ôy\\' is not defined>>> y = 3>>> y3Monday, October 19, 2009       Multiple Assignment\\n¥You can also assign to multiple names at the same time.  \\n>>> x, y = 2, 3>>> x2>>> y3 Monday, October 19, 2009       Naming Rules¥Names are case sensitive and cannot start with a number.  \\nThey can contain letters, numbers, and underscores.\\n bob  Bob  _bob  _2_bob_  bob_2  BoB¥There are some reserved words: and, assert, break, class, continue, def, del, elif, else, except, exec, finally, for, from, global, if, import, in, is, lambda, not, or, pass, print, raise, return, try, whileMonday, October 19, 2009Understanding Reference Semantics in \\nPython\\nMonday, October 19, 2009       Understanding Reference Semantics\\n¥Assignment manipulates references\\nÑx = y \\ndoes not make a copy\\n of the object y references\\nÑx = y makes x \\nreference\\n the object y references\\n¥Very useful; but beware!\\n¥Example:\\n>>> a = [1, 2, 3] # a now references the list [1, 2, 3]\\n>>> b = a # b now references what a references\\n>>> a.append(4) # this \\nchanges\\n the list a references \\n>>> print b # if we print what b references,\\n[1, 2, 3, 4] # SURPRISE!  It has changedÉ\\n Why??Monday, October 19, 2009       Understanding Reference Semantics II\\n¥There is a lot going on when we type:\\nx = 3¥First, an integer \\n3 is created and stored in memory\\n¥A name \\nx is created\\n¥An reference\\n to the memory location storing the \\n3 is then \\nassigned to the name \\nx¥So:  When we say that the value of \\nx is 3 ¥we mean that \\nx now refers to the integer \\n3Type: Integer\\nData: 3\\nName: x\\nRef: <address1>\\nname list\\nmemory\\nMonday, October 19, 2009       Understanding Reference Semantics III\\n¥The data 3 we created is of type integer.  In Python, the \\ndatatypes integer, float, and string (and tuple) are \\nÒimmutable.Ó\\n¥This doesnÕt mean we canÕt change the value of x, i.e. \\nchange what x refers to\\n É \\n¥For example, we could increment x:\\n>>> x = 3>>> x = x + 1>>> print x4Monday, October 19, 2009       Understanding Reference Semantics IV\\n¥If we increment x, then whatÕs really happening is:\\n1.The reference of name \\nx is looked up.\\n2.The value at that reference is retrieved.\\nType: Integer\\nData: 3\\nName: x\\nRef: <address1>\\n>>> x = x + 1Monday, October 19, 2009       Understanding Reference Semantics IV\\n¥If we increment x, then whatÕs really happening is:\\n1.The reference of name \\nx is looked up.\\n2.The value at that reference is retrieved.\\n3.The 3+1 calculation occurs, producing a new data element \\n4 which is \\nassigned to a fresh memory location with a new reference.\\nType: Integer\\nData: 3\\nName: x\\nRef: <address1>\\nType: Integer\\nData: 4\\n>>> x = x + 1Monday, October 19, 2009       Understanding Reference Semantics IV\\n¥If we increment x, then whatÕs really happening is:\\n1.The reference of name \\nx is looked up.\\n2.The value at that reference is retrieved.\\n3.The 3+1 calculation occurs, producing a new data element \\n4 which is \\nassigned to a fresh memory location with a new reference.\\n4.The name \\nx is changed to point to this new reference.\\nType: Integer\\nData: 3\\nName: x\\nRef: <address1>\\nType: Integer\\nData: 4\\n>>> x = x + 1Monday, October 19, 2009       Understanding Reference Semantics IV\\n¥If we increment x, then whatÕs really happening is:\\n1.The reference of name \\nx is looked up.\\n2.The value at that reference is retrieved.\\n3.The 3+1 calculation occurs, producing a new data element \\n4 which is \\nassigned to a fresh memory location with a new reference.\\n4.The name \\nx is changed to point to this new reference.\\n5.The old data 3 is garbage collected if no name still refers to it.\\nName: x\\nRef: <address1>\\nType: Integer\\nData: 4\\n>>> x = x + 1Monday, October 19, 2009       Assignment 1\\n¥So, for simple built-in datatypes (integers, floats, strings), \\nassignment behaves as you would expect:\\n>>> x = 3       # Creates 3, name x refers to 3 >>> y = x       # Creates name y, refers to 3.>>> y = 4       # Creates ref for 4. Changes y.>>> print x     # No effect on x, still ref 3.3Monday, October 19, 2009       Assignment 1\\n¥So, for simple built-in datatypes (integers, floats, strings), \\nassignment behaves as you would expect:\\n>>> x = 3       # Creates 3, name x refers to 3 >>> y = x       # Creates name y, refers to 3.>>> y = 4       # Creates ref for 4. Changes y.>>> print x     # No effect on x, still ref 3.3Type: Integer\\nData: 3\\nName: x\\nRef: <address1>\\nMonday, October 19, 2009       Assignment 1\\n¥So, for simple built-in datatypes (integers, floats, strings), \\nassignment behaves as you would expect:\\n>>> x = 3       # Creates 3, name x refers to 3 >>> y = x       # Creates name y, refers to 3.>>> y = 4       # Creates ref for 4. Changes y.>>> print x     # No effect on x, still ref 3.3Type: Integer\\nData: 3\\nName: x\\nRef: <address1>\\nName: y\\nRef: <address1>\\nMonday, October 19, 2009       Assignment 1\\n¥So, for simple built-in datatypes (integers, floats, strings), \\nassignment behaves as you would expect:\\n>>> x = 3       # Creates 3, name x refers to 3 >>> y = x       # Creates name y, refers to 3.>>> y = 4       # Creates ref for 4. Changes y.>>> print x     # No effect on x, still ref 3.3Type: Integer\\nData: 3\\nName: x\\nRef: <address1>\\nType: Integer\\nData: 4\\nName: y\\nRef: <address1>\\nMonday, October 19, 2009       Assignment 1\\n¥So, for simple built-in datatypes (integers, floats, strings), \\nassignment behaves as you would expect:\\n>>> x = 3       # Creates 3, name x refers to 3 >>> y = x       # Creates name y, refers to 3.>>> y = 4       # Creates ref for 4. Changes y.>>> print x     # No effect on x, still ref 3.3Type: Integer\\nData: 3\\nName: x\\nRef: <address1>\\nType: Integer\\nData: 4\\nName: y\\nRef: <address2>\\nMonday, October 19, 2009       Assignment 1\\n¥So, for simple built-in datatypes (integers, floats, strings), \\nassignment behaves as you would expect:\\n>>> x = 3       # Creates 3, name x refers to 3 >>> y = x       # Creates name y, refers to 3.>>> y = 4       # Creates ref for 4. Changes y.>>> print x     # No effect on x, still ref 3.3Type: Integer\\nData: 3\\nName: x\\nRef: <address1>\\nType: Integer\\nData: 4\\nName: y\\nRef: <address2>\\nMonday, October 19, 2009       Assignment 2\\n¥For other data types (lists, dictionaries, user-defined types), assignment \\nworks differently.  \\n¥These datatypes are \\nÒmutable.Ó\\n  ¥When we change these data, we do it \\nin place. \\n ¥We donÕt copy them into a new memory address each time.  \\n¥If we type y=x and then modify y, both x and y are changed.\\n>>> x = 3    \\nx = some mutable object>>> y = x    y = x\\n>>> y = 4    make a change to y\\n>>> print x    look at x\\n3      \\nx will be changed as wellimmutable\\nmutable\\nMonday, October 19, 2009       a123ba123b4a = [1, 2, 3]\\na.append(4)\\nb = a\\na123Why? Changing a Shared List\\nMonday, October 19, 2009       Our surprising example surprising no more...¥So now, hereÕs our code:\\n>>> a = [1, 2, 3] # a now references the list [1, 2, 3]\\n>>> b = a # b now references what a references\\n>>> a.append(4) # this \\nchanges\\n the list a references \\n>>> print b # if we print what b references,\\n[1, 2, 3, 4] # SURPRISE!  It has changedÉ\\nMonday, October 19, 2009Sequence types:\\n Tuples, Lists, and Strings\\nMonday, October 19, 2009       Sequence Types\\n1.Tuple\\n¥A simple \\nimmutable\\n ordered sequence of items\\n¥Items can be of mixed types, including collection types\\n2.Strings\\n¥Immutable\\n¥Conceptually very much like a tuple\\n3.List\\n¥Mutable\\n ordered sequence of items of mixed types\\nMonday, October 19, 2009       Similar Syntax\\n¥All three sequence types (tuples, strings, and lists) \\nshare much of the same syntax and functionality.\\n¥Key difference: \\n¥Tuples and strings are \\nimmutable\\n¥ Lists are \\nmutable\\n¥The operations shown in this section can be \\napplied to all sequence types\\n¥most examples will just show the operation \\nperformed on one\\nMonday, October 19, 2009       Sequence Types 1\\n¥Tuples are defined using parentheses (and commas).\\n>>> tu = (23, ÔabcÕ, 4.56, (2,3), ÔdefÕ)¥Lists are defined using square brackets (and commas).\\n>>> li = [ÒabcÓ, 34, 4.34, 23]¥Strings are defined using quotes (Ò, Ô, or ÒÒÒ).\\n>>> st = ÒHello WorldÓ>>> st = ÔHello WorldÕ>>> st = ÒÒÒThis is a multi-linestring that uses triple quotes.ÓÓÓMonday, October 19, 2009       Sequence Types 2\\n¥We can access individual members of a tuple, list, or string \\nusing square bracket ÒarrayÓ notation. \\n¥Note that all are 0 basedÉ \\n>>> tu = (23, ÔabcÕ, 4.56, (2,3), ÔdefÕ)>>> tu[1]     # Second item in the tuple. ÔabcÕ>>> li = [ÒabcÓ, 34, 4.34, 23] >>> li[1]      # Second item in the list. 34>>> st = ÒHello WorldÓ>>> st[1]   # Second character in string. ÔeÕMonday, October 19, 2009       Positive and negative indices\\n>>> t = (23, ÔabcÕ, 4.56, (2,3), ÔdefÕ)Positive index: count from the left, starting with 0.\\n  >>> t[1]   ÔabcÕ\\nNegative lookup: count from right, starting with Ð1.\\n  >>> t[-3]   4.56\\nMonday, October 19, 2009       Slicing: Return Copy of a Subset 1\\n>>> t = (23, ÔabcÕ, 4.56, (2,3), ÔdefÕ)Return a copy of the container with a subset of the original \\nmembers.  Start copying at the first index, and stop copying \\nbefore\\n the second index. \\n  >>> t[1:4] \\n  (ÔabcÕ, 4.56, (2,3))\\nYou can also use negative indices when slicing. \\n  >>> t[1:-1]  (ÔabcÕ, 4.56, (2,3))\\nMonday, October 19, 2009       Slicing: Return Copy of a Subset 2\\n>>> t = (23, ÔabcÕ, 4.56, (2,3), ÔdefÕ)Omit the first index to make a copy starting from the beginning \\nof the container.\\n  >>> t[:2]   (23, ÔabcÕ)\\nOmit the second index to make a copy starting at the first index \\nand going to the end of the container.\\n  >>> t[2:]  (4.56, (2,3), ÔdefÕ)\\nMonday, October 19, 2009       Copying the Whole Sequence\\nTo make a \\ncopy of an entire sequence, you can use \\n[:]. >>> t[:]  (23, ÔabcÕ, 4.56, (2,3), ÔdefÕ)\\nNote the difference between these two lines for mutable \\nsequences:>>> list2 = list1 # 2 names refer to 1 ref\\n      # Changing one affects both\\n>>> list2 = list1[:] # Two independent copies, two refs\\n                  \\nMonday, October 19, 2009       The ÔinÕ Operator\\n¥Boolean test whether a value is inside a container:\\n>>> t = [1, 2, 4, 5]>>> 3 in tFalse>>> 4 in tTrue>>> 4 not in tFalse¥For strings, tests for substrings\\n>>> a = \\'abcde\\'>>> \\'c\\' in aTrue>>> \\'cd\\' in aTrue>>> \\'ac\\' in aFalse¥Be careful: the \\nin keyword is also used in the syntax of \\nfor\\n loops and list comprehensions\\n.Monday, October 19, 2009       The + Operator\\n¥The + operator produces a \\nnew  tuple, list, or string whose \\nvalue is the concatenation of its arguments.\\n>>> (1, 2, 3) + (4, 5, 6) (1, 2, 3, 4, 5, 6)>>> [1, 2, 3] + [4, 5, 6] [1, 2, 3, 4, 5, 6]>>> ÒHelloÓ + Ò Ó + ÒWorldÓ ÔHello WorldÕMonday, October 19, 2009       The * Operator\\n¥The * operator produces a \\nnew tuple, list, or string that \\nÒrepeatsÓ the original content.\\n>>> (1, 2, 3) * 3(1, 2, 3, 1, 2, 3, 1, 2, 3)>>> [1, 2, 3] * 3[1, 2, 3, 1, 2, 3, 1, 2, 3]>>> ÒHelloÓ * 3ÔHelloHelloHelloÕMonday, October 19, 2009Mutability:\\nTuples vs. Lists\\nMonday, October 19, 2009       Tuples: Immutable\\n>>> t = (23, ÔabcÕ, 4.56, (2,3), ÔdefÕ)>>> t[2] = 3.14Traceback (most recent call last):  File \"<pyshell#75>\", line 1, in -toplevel-    tu[2] = 3.14TypeError: object doesn\\'t support item assignmentYou canÕt change a tuple. \\nYou can make a fresh tuple and assign its reference to a previously used \\nname. >>>\\n t = (23, ÔabcÕ, 3.14, (2,3), ÔdefÕ)Monday, October 19, 2009       Lists: Mutable\\n>>> li = [ÔabcÕ, 23, 4.34, 23]>>> li[1] = 45 >>> li[ÔabcÕ, 45, 4.34, 23]¥We can change lists \\nin place. ¥Name li still points to the same memory reference when weÕre \\ndone. ¥The mutability of lists means that  they arenÕt as fast as tuples. \\nMonday, October 19, 2009       Operations on Lists Only 1 \\n>>> li = [1, 11, 3, 4, 5]>>> li.append(ÔaÕ) # Our first exposure to \\nmethod syntax>>> li[1, 11, 3, 4, 5, ÔaÕ]>>> li.insert(2, ÔiÕ)>>>li[1, 11, ÔiÕ, 3, 4, 5, ÔaÕ]Monday, October 19, 2009       The extend\\n method vs the  \\n+ operator.  \\n¥+ creates a fresh list (with a new memory reference)\\n¥extend\\n operates on list \\nli in place.>>> li.extend([9, 8, 7])           >>>li[1, 2, ÔiÕ, 3, 4, 5, ÔaÕ, 9, 8, 7]Confusing\\n: ¥Extend takes a list as an argument. \\n¥Append takes a singleton as an argument.\\n>>> li.append([10, 11, 12])>>> li[1, 2, ÔiÕ, 3, 4, 5, ÔaÕ, 9, 8, 7, [10, 11, 12]]Monday, October 19, 2009       Operations on Lists Only 3\\n>>> li = [ÔaÕ, ÔbÕ, ÔcÕ, ÔbÕ]>>> li.index(ÔbÕ)     # index of first occurrence1>>> li.count(ÔbÕ)     # number of occurrences2>>> li.remove(ÔbÕ)    # remove first occurrence>>> li  [ÔaÕ, ÔcÕ, ÔbÕ]Monday, October 19, 2009       Operations on Lists Only 4\\n>>> li = [5, 2, 6, 8]>>> li.reverse()    # reverse the list *in place*>>> li  [8, 6, 2, 5]>>> li.sort()       # sort the list *in place*>>> li  [2, 5, 6, 8]>>> li.sort(some_function)      # sort in place using user-defined comparisonMonday, October 19, 2009       Tuples vs. Lists\\n¥Lists slower but more powerful than tuples.\\n¥Lists can be modified, and they have lots of handy operations we can \\nperform on them.\\n¥Tuples are immutable and have fewer features.\\n¥To convert between tuples and lists use the list() and tuple() \\nfunctions:\\nli = list(tu)tu = tuple(li)Monday, October 19, 2009Dictionaries\\n63Monday, October 19, 2009       Dictionaries: A Mapping type\\n¥Dictionaries store a mapping between a set of keys \\nand a set of values.\\n¥Keys can be any immutable type.\\n¥Values can be any type\\n¥A single dictionary can store values of different types\\n¥You can define, modify, view, lookup, and delete \\nthe key-value pairs in the dictionary.\\nMonday, October 19, 2009       Using dictionaries\\n>>> d = {ÔuserÕ:ÔbozoÕ, ÔpswdÕ:1234}>>> d[ÔuserÕ] ÔbozoÕ>>> d[ÔpswdÕ]1234>>> d[ÔbozoÕ]Traceback (innermost last):  File Ô<interactive input>Õ line 1, in ?KeyError: bozo>>> d = {ÔuserÕ:ÔbozoÕ, ÔpswdÕ:1234}>>> d[ÔuserÕ] = ÔclownÕ>>> d{ÔuserÕ:ÔclownÕ, ÔpswdÕ:1234}>>> d[ÔidÕ] = 45>>> d{ÔuserÕ:ÔclownÕ, ÔidÕ:45, ÔpswdÕ:1234}>>> d = {ÔuserÕ:ÔbozoÕ, ÔpÕ:1234, ÔiÕ:34}>>> del d[ÔuserÕ]           # Remove one.>>> d{ÔpÕ:1234, ÔiÕ:34}>>> d.clear()               # Remove all.>>> d{}>>> d = {ÔuserÕ:ÔbozoÕ, ÔpÕ:1234, ÔiÕ:34}>>> d.keys()            # List of keys.[ÔuserÕ, ÔpÕ, ÔiÕ]>>> d.values()          # List of values.[ÔbozoÕ, 1234, 34]>>> d.items()      # List of item tuples.[(ÔuserÕ,ÔbozoÕ), (ÔpÕ,1234), (ÔiÕ,34)]Monday, October 19, 2009Functions\\nMonday, October 19, 2009       Functions\\n¥def creates a function and assigns it a name\\n¥return sends a result back to the caller\\n¥Arguments are passed by assignment\\n¥Arguments and return types are not declared\\n     def <name>(arg1, arg2, ..., argN):!<statements>\\n!return <value>\\ndef times(x,y):!return x*y\\nMonday, October 19, 2009       Passing Arguments to Functions\\n¥Arguments are passed by assignment\\n¥Passed arguments are assigned to local names\\n¥Assignment to argument names don\\'t affect the \\ncaller¥Changing a mutable argument may affect the caller\\ndef changer (x,y):!x = 2\\n!!!\\n# changes local value of x only\\n!y[0] = \\'hi\\'\\n!!\\n      # changes shared object\\nMonday, October 19, 2009       Optional Arguments\\n¥Can define defaults for arguments that need not be \\npassed     def func(a, b, c=10, d=100):!print a, b, c, d\\n>>> func(1,2)1 2 10 100>>> func(1,2,3,4)1,2,3,4Monday, October 19, 2009       Gotchas\\n¥All functions in Python have a return value\\n¥even if no return line inside the code.\\n¥Functions without a return return the special value \\nNone.¥There is no function overloading in Python.\\n¥Two different functions canÕt have the same name, even if they \\nhave different arguments.\\n¥Functions can be used as any other data type. \\nThey can be:¥Arguments to function\\n¥Return values of functions\\n¥Assigned to variables\\n¥Parts of tuples, lists, etc\\nMonday, October 19, 2009Control of Flow\\n71Monday, October 19, 2009       Examples\\nif x == 3: print ÒX equals 3.Óelif x == 2: print ÒX equals 2.Óelse: print ÒX equals something else.Óprint ÒThis is outside the ÔifÕ.Óx = 3while x < 10:   if x > 7:       x += 2       continue   x = x + 1   print ÒStill in the loop.Ó   if x == 8:       breakprint ÒOutside of the loop.Óassert(number_of_players < 5) for x in range(10):   if x > 7:       x += 2       continue   x = x + 1   print ÒStill in the loop.Ó   if x == 8:       breakprint ÒOutside of the loop.ÓMonday, October 19, 2009Modules\\nMonday, October 19, 2009       Why Use Modules?\\n¥Code reuse¥Routines can be called multiple times within a program\\n¥Routines can be used from multiple programs\\n¥Namespace partitioning\\n¥Group data together with functions used for that data\\n¥Implementing shared services or data\\n¥Can provide global data structure that is accessed by multiple \\nsubprograms\\nMonday, October 19, 2009       Modules\\n¥Modules are functions and variables defined in \\nseparate files\\n¥Items are imported using from or import\\n    from module import functionfunction()import modulemodule.function()¥Modules are namespaces\\n¥Can be used to organize variable names, i.e.\\n  atom.position = atom.position - molecule.positionMonday, October 19, 2009Classes and Objects\\nMonday, October 19, 2009       What is an Object?\\n¥A software item that contains variables and \\nmethods\\n¥Object Oriented Design focuses on\\n¥Encapsulation: \\nÑdividing the code into a public interface, and a private implementation \\nof that interface\\n¥Polymorphism:\\nÑthe ability to overload standard operators so that they have appropriate \\nbehavior based on their context\\n¥Inheritance:\\nÑthe ability to create subclasses that contain specializations of their \\nparents\\nMonday, October 19, 2009       Example\\nclass atom(object):!def __init__(self,atno,x,y,z):\\n!!\\nself.atno = atno\\n!!\\nself.position = (x,y,z)\\n!def symbol(self):   \\n# a class method!!\\nreturn Atno_to_Symbol[atno]\\n!def __repr__(self): \\n# overloads printing!!\\nreturn \\'%d %10.4f %10.4f %10.4f\\' %\\n!!!\\n(self.atno, self.position[0],\\n!!!\\n self.position[1],self.position[2])\\n>>> at = atom(6,0.0,1.0,2.0)>>> print at6  0.0000  1.0000 2.0000>>> at.symbol()\\'C\\'Monday, October 19, 2009       Atom Class\\n¥Overloaded the default constructor\\n¥Defined class variables (atno,position) that are \\npersistent and local to the atom object\\n¥Good way to manage shared memory:\\n¥instead of passing long lists of arguments, encapsulate some of \\nthis data into an object, and pass the object.\\n¥much cleaner programs result\\n¥Overloaded the print operator\\n¥We now want to use the atom class to build \\nmolecules...Monday, October 19, 2009       Molecule Class\\nclass molecule:!def __init__(self,name=\\'Generic\\'):\\n!!\\nself.name = name\\n!!\\nself.atomlist = []\\n!def addatom(self,atom):\\n!!\\nself.atomlist.append(atom)\\n!def __repr__(self):\\n!!\\nstr = \\'This is a molecule named %s\\\\n\\' % self.name\\n!!\\nstr = str+\\'It has %d atoms\\\\n\\' % len(self.atomlist)\\n!!\\nfor atom in self.atomlist:\\n!!!\\nstr = str + `atom` + \\'\\\\n\\'\\n!!\\nreturn str\\nMonday, October 19, 2009       Using Molecule Class\\n           >>> mol = molecule(\\'Water\\')>>> at = atom(8,0.,0.,0.)>>> mol.addatom(at)>>> mol.addatom(atom(1,0.,0.,1.))>>> mol.addatom(atom(1,0.,1.,0.))>>> print molThis is a molecule named WaterIt has 3 atoms8  0.000 0.000 0.0001  0.000 0.000 1.0001  0.000 1.000 0.000¥Note that the print function calls the atoms print \\nfunction\\n¥Code reuse: only have to type the code that prints an atom \\nonce; this means that if you change the atom specification, you \\nonly have one place to update.\\nMonday, October 19, 2009       Inheritance\\n           class qm_molecule(molecule):  def addbasis(self):    self.basis = []    for atom in self.atomlist:      self.basis = add_bf(atom,self.basis)¥__init__, __repr__, and __addatom__ are taken \\nfrom the parent class (molecule)\\n¥Added a new function addbasis() to add a basis set\\n¥Another example of code reuse\\n¥Basic functions don\\'t have to be retyped, just inherited\\n¥Less to rewrite when specifications change\\nMonday, October 19, 2009       Overloading           class qm_molecule(molecule):         def __repr__(self):!!\\n     str = \\'QM Rules!\\\\n\\'\\n!!\\n     for atom in self.atomlist:\\n!!!\\n str = str + `atom` + \\'\\\\n\\'\\n!!\\n     return str\\n¥Now we only inherit __init__ and addatom from the \\nparent¥We define a new version of __repr__ specially for \\nQMMonday, October 19, 2009       Adding to Parent Functions\\n¥Sometimes you want to extend, rather than \\nreplace, the parent functions.\\n           class qm_molecule(molecule):!       def __init__(self,name=\"Generic\",basis=\"6-31G**\"):\\n!!\\n    self.basis = basis\\n!!\\n    super(qm_molecule, self).__init__(name)\\nMonday, October 19, 2009       Public and Private Data\\n¥In Python anything with two leading underscores \\nis private\\n         __a, __my_variable\\n¥Anything with one leading underscore is semi-\\nprivate, and you should feel guilty accessing this \\ndata directly.\\n         _b¥Sometimes useful as an intermediate step to making data \\nprivate\\nMonday, October 19, 2009The Extra Stuff...\\n86Monday, October 19, 2009       File I/O, Strings, Exceptions...\\nfileptr = open(ÔfilenameÕ)somestring = fileptr.read()for line in fileptr:   print linefileptr.close()>>> a = 1>>> b = 2.4>>> c = \\'Tom\\'>>> \\'%s has %d coins worth a total of $%.02f\\' % (c, a, b)\\'Tom has 1 coins worth a total of $2.40\\'>>> try:...     1 / 0... except:...     print(\\'That was silly!\\')... finally:...     print(\\'This gets executed no matter what\\')... That was silly!This gets executed no matter whatMonday, October 19, 2009Introduction to Python\\nHeavily based on presentations by \\n    Matt Huenerfauth (Penn State)\\n    Guido van Rossum (Google) \\n    Richard P. Muller (Caltech)\\n    ...Monday, October 19, 2009       ¥Open source general-purpose language.\\n¥Object Oriented, Procedural, Functional\\n¥Easy to interface with C/ObjC/Java/Fortran\\n¥Easy-ish to interface with C++ (via SWIG)\\n¥Great interactive environment\\n¥Downloads: \\nhttp://www.python.org\\n¥Documentation: \\nhttp://www.python.org/doc/\\n¥Free book: \\nhttp://www.diveintopython.org\\nPython\\nMonday, October 19, 2009       2.5.x / 2.6.x / 3.x ???¥ÒCurrentÓ version is 2.6.x\\n¥ÒMainstreamÓ version is 2.5.x\\n¥The new kid on the block is 3.x\\nYou probably want 2.5.x unless you are starting from \\nscratch. Then maybe 3.x\\nMonday, October 19, 2009Technical Issues\\nInstalling & Running Python\\nMonday, October 19, 2009       Binaries¥Python comes pre-installed with Mac OS X and \\nLinux.¥Windows binaries from \\nhttp://python.org\\n/¥You might not have to do anything!\\nMonday, October 19, 2009       The Python Interpreter\\n¥Interactive interface to Python\\n % python\\nPython 2.5 (r25:51908, May 25 2007, 16:14:04) \\n[GCC 4.1.2 20061115 (prerelease) (SUSE Linux)] on linux2\\nType \"help\", \"copyright\", \"credits\" or \"license\" for more information.\\n>>> ¥Python interpreter evaluates inputs:\\n >>> \\n3*(7+2)\\n 27\\n¥Python prompts with Ô>>>Õ. \\n¥To exit Python:\\n¥CTRL-D\\nMonday, October 19, 2009       Running Programs on UNIX\\n% python filename.py    You could make the *.py file executable and add the \\nfollowing \\n#!/usr/bin/env python\\n to the top to make it \\nrunnable.Monday, October 19, 2009       Batteries Included\\n¥Large collection of proven modules included in the \\nstandard distribution.\\nhttp://docs.python.org/modindex.html\\nMonday, October 19, 2009       numpy¥Offers Matlab-ish capabilities within Python\\n¥Fast array operations\\n¥2D arrays, multi-D arrays, linear algebra etc.\\n¥Downloads: \\nhttp://numpy.scipy.org/\\n¥Tutorial: \\nhttp://www.scipy.org/\\nTentative_NumPy_Tutorial\\nMonday, October 19, 2009       matplotlib\\n¥High quality plotting library.\\n¥Downloads: \\nhttp://matplotlib.sourceforge.net\\n/#!/usr/bin/env pythonimport numpy as npimport matplotlib.mlab as mlabimport matplotlib.pyplot as pltmu, sigma = 100, 15x = mu + sigma*np.random.randn(10000)# the histogram of the datan, bins, patches = plt.hist(x, 50, normed=1, facecolor=\\'green\\', alpha=0.75)# add a \\'best fit\\' liney = mlab.normpdf( bins, mu, sigma)l = plt.plot(bins, y, \\'r--\\', linewidth=1)plt.xlabel(\\'Smarts\\')plt.ylabel(\\'Probability\\')plt.title(r\\'$\\\\mathrm{Histogram\\\\ of\\\\ IQ:}\\\\ \\\\mu=100,\\\\ \\\\sigma=15$\\')plt.axis([40, 160, 0, 0.03])plt.grid(True)plt.show()Monday, October 19, 2009       PyFITS\\n¥FITS I/O made simple:\\n¥Downloads: \\nhttp://www.stsci.edu/resources/\\nsoftware_hardware/pyfits\\n>>> import pyfits>>> hdulist = pyfits.open(Õinput.fitsÕ)>>> hdulist.info() Filename: test1.fits No. Name Type Cards Dimensions Format 0 PRIMARY PrimaryHDU 220 () Int16 1 SCI ImageHDU 61 (800, 800) Float32 2 SCI ImageHDU 61 (800, 800) Float32 3 SCI ImageHDU 61 (800, 800) Float32 4 SCI ImageHDU 61 (800, 800) Float32>>> hdulist[0].header[ÕtargnameÕ] ÕNGC121Õ>>> scidata = hdulist[1].data>>> scidata.shape (800, 800) >>> scidata.dtype.name Õfloat32Õ>>> scidata[30:40,10:20] = scidata[1,4] = 999Monday, October 19, 2009       pyds9 / python-sao\\n¥Interaction with DS9\\n¥Display Python 1-D and 2-D arrays in DS9\\n¥Display FITS files in DS9\\n¥Downloads: Ask Eric Mandel :-)\\n¥Downloads: \\nhttp://code.google.com/p/python-sao/\\nMonday, October 19, 2009       Wrappers for Astronomical Packages\\n¥CasaPy (Casa) \\n¥PYGILDAS (GILDAS)\\n¥ParselTongue (AIPS) \\n¥PyRAF (IRAF) \\n¥PyMIDAS (MIDAS) \\n¥PyIMSL (IMSL)\\nMonday, October 19, 2009       Custom Distributions\\n¥Python(x,y): \\nhttp://www.pythonxy.com\\n/¥Python(x,y) is a free scientific and engineering development \\nsoftware for numerical computations, data analysis and data \\nvisualization\\n¥Sage: \\nhttp://www.sagemath.org/\\n¥Sage is a free open-source  mathematics software system \\nlicensed under the GPL. It combines the power of many existing \\nopen-source packages into a common Python-based interface. \\nMonday, October 19, 2009       Extra Astronomy Links\\n¥iPython (better shell, distributed computing): \\nhttp://ipython.scipy.org\\n/¥SciPy (collection of science tools): \\nhttp://\\nwww.scipy.org\\n/¥Python Astronomy Modules: \\nhttp://\\nastlib.sourceforge.net\\n/¥Python Astronomer Wiki: \\nhttp://macsingularity.org/\\nastrowiki/tiki-index.php?page=python\\n¥AstroPy: \\nhttp://www.astro.washington.edu/users/\\nrowen/AstroPy.html\\n¥Python for Astronomers: \\nhttp://www.iac.es/\\nsieinvens/siepedia/pmwiki.php?n=HOWTOs.EmpezandoPython\\nMonday, October 19, 2009The BasicsMonday, October 19, 2009       A Code Sample\\n x = 34 - 23            # A comment. y = ÒHelloÓ            # Another one. z = 3.45     if z == 3.45 or y == ÒHelloÓ:     x = x + 1     y = y + Ò WorldÓ   # String concat. print x print yMonday, October 19, 2009       Enough to Understand the Code\\n¥Assignment uses \\n= and comparison uses ==.¥For numbers + - * / %\\n are as expected.\\n¥Special use of \\n+ for string concatenation.\\n¥Special use of \\n% for string formatting (as with printf in C)\\n¥Logical operators are words (\\nand, or, not) not \\nsymbols¥The basic printing command is \\nprint.¥The first assignment to a variable creates it.\\n¥Variable types donÕt need to be declared.\\n¥Python figures out the variable types on its own.  \\nMonday, October 19, 2009       Basic Datatypes\\n¥Integers (default for numbers)\\nz = 5 / 2    # Answer is 2, integer division.¥Floats\\nx = 3.456¥Strings\\n¥Can use ÒÓ or ÔÕ to specify.   \\nÒabcÓ  ÔabcÕ  (Same thing.)\\n¥Unmatched can occur within the string.  \\nÒmattÕsÓ¥Use triple double-quotes for multi-line strings or strings than contain both Ô \\nand Ò inside of them:  \\nÒÒÒaÔbÒcÓÓÓMonday, October 19, 2009       Whitespace\\nWhitespace is meaningful in Python: especially \\nindentation and placement of newlines.  \\n¥Use a newline to end a line of code. \\n¥Use \\n\\\\ when must go to next line prematurely.\\n¥No braces { } to mark blocks of code in PythonÉ \\nUse consistent\\n indentation instead.  \\n¥The first line with \\nless\\n indentation is outside of the block.\\n¥The first line with \\nmore\\n indentation starts a nested block\\n¥Often a colon appears at the start of a new block.  \\n(E.g.  for function and class definitions.)\\nMonday, October 19, 2009       Comments\\n¥Start comments with # Ð the rest of line is ignored.\\n¥Can include a Òdocumentation stringÓ as the first line of any \\nnew function or class that you define.\\n¥The development environment, debugger, and other tools use \\nit: itÕs good style to include one.\\ndef my_function(x, y):  ÒÒÒThis is the docstring. This function does blah blah blah.ÓÓÓ# The code would go here... Monday, October 19, 2009       Assignment¥Binding a variable in Python means setting a \\nname to hold a \\nreference\\n to some \\nobject.¥Assignment creates references, not copies\\n¥Names in Python do not have an intrinsic type.  Objects have \\ntypes.\\n¥Python determines the type of the reference automatically based on the \\ndata object assigned to it.\\n¥You create a name the first time it appears on the left side of \\nan assignment expression:    \\n!x = 3\\n¥A reference is deleted via garbage collection after any names \\nbound to it have passed out of scope.\\nMonday, October 19, 2009       Accessing Non-Existent Names\\n¥If you try to access a name before itÕs been properly created \\n(by placing it on the left side of an assignment), youÕll get an \\nerror.  \\n>>> yTraceback (most recent call last):  File \"<pyshell#16>\", line 1, in -toplevel-    yNameError: name Ôy\\' is not defined>>> y = 3>>> y3Monday, October 19, 2009       Multiple Assignment\\n¥You can also assign to multiple names at the same time.  \\n>>> x, y = 2, 3>>> x2>>> y3 Monday, October 19, 2009       Naming Rules¥Names are case sensitive and cannot start with a number.  \\nThey can contain letters, numbers, and underscores.\\n bob  Bob  _bob  _2_bob_  bob_2  BoB¥There are some reserved words: and, assert, break, class, continue, def, del, elif, else, except, exec, finally, for, from, global, if, import, in, is, lambda, not, or, pass, print, raise, return, try, whileMonday, October 19, 2009Understanding Reference Semantics in \\nPython\\nMonday, October 19, 2009       Understanding Reference Semantics\\n¥Assignment manipulates references\\nÑx = y \\ndoes not make a copy\\n of the object y references\\nÑx = y makes x \\nreference\\n the object y references\\n¥Very useful; but beware!\\n¥Example:\\n>>> a = [1, 2, 3] # a now references the list [1, 2, 3]\\n>>> b = a # b now references what a references\\n>>> a.append(4) # this \\nchanges\\n the list a references \\n>>> print b # if we print what b references,\\n[1, 2, 3, 4] # SURPRISE!  It has changedÉ\\n Why??Monday, October 19, 2009       Understanding Reference Semantics II\\n¥There is a lot going on when we type:\\nx = 3¥First, an integer \\n3 is created and stored in memory\\n¥A name \\nx is created\\n¥An reference\\n to the memory location storing the \\n3 is then \\nassigned to the name \\nx¥So:  When we say that the value of \\nx is 3 ¥we mean that \\nx now refers to the integer \\n3Type: Integer\\nData: 3\\nName: x\\nRef: <address1>\\nname list\\nmemory\\nMonday, October 19, 2009       Understanding Reference Semantics III\\n¥The data 3 we created is of type integer.  In Python, the \\ndatatypes integer, float, and string (and tuple) are \\nÒimmutable.Ó\\n¥This doesnÕt mean we canÕt change the value of x, i.e. \\nchange what x refers to\\n É \\n¥For example, we could increment x:\\n>>> x = 3>>> x = x + 1>>> print x4Monday, October 19, 2009       Understanding Reference Semantics IV\\n¥If we increment x, then whatÕs really happening is:\\n1.The reference of name \\nx is looked up.\\n2.The value at that reference is retrieved.\\nType: Integer\\nData: 3\\nName: x\\nRef: <address1>\\n>>> x = x + 1Monday, October 19, 2009       Understanding Reference Semantics IV\\n¥If we increment x, then whatÕs really happening is:\\n1.The reference of name \\nx is looked up.\\n2.The value at that reference is retrieved.\\n3.The 3+1 calculation occurs, producing a new data element \\n4 which is \\nassigned to a fresh memory location with a new reference.\\nType: Integer\\nData: 3\\nName: x\\nRef: <address1>\\nType: Integer\\nData: 4\\n>>> x = x + 1Monday, October 19, 2009       Understanding Reference Semantics IV\\n¥If we increment x, then whatÕs really happening is:\\n1.The reference of name \\nx is looked up.\\n2.The value at that reference is retrieved.\\n3.The 3+1 calculation occurs, producing a new data element \\n4 which is \\nassigned to a fresh memory location with a new reference.\\n4.The name \\nx is changed to point to this new reference.\\nType: Integer\\nData: 3\\nName: x\\nRef: <address1>\\nType: Integer\\nData: 4\\n>>> x = x + 1Monday, October 19, 2009       Understanding Reference Semantics IV\\n¥If we increment x, then whatÕs really happening is:\\n1.The reference of name \\nx is looked up.\\n2.The value at that reference is retrieved.\\n3.The 3+1 calculation occurs, producing a new data element \\n4 which is \\nassigned to a fresh memory location with a new reference.\\n4.The name \\nx is changed to point to this new reference.\\n5.The old data 3 is garbage collected if no name still refers to it.\\nName: x\\nRef: <address1>\\nType: Integer\\nData: 4\\n>>> x = x + 1Monday, October 19, 2009       Assignment 1\\n¥So, for simple built-in datatypes (integers, floats, strings), \\nassignment behaves as you would expect:\\n>>> x = 3       # Creates 3, name x refers to 3 >>> y = x       # Creates name y, refers to 3.>>> y = 4       # Creates ref for 4. Changes y.>>> print x     # No effect on x, still ref 3.3Monday, October 19, 2009       Assignment 1\\n¥So, for simple built-in datatypes (integers, floats, strings), \\nassignment behaves as you would expect:\\n>>> x = 3       # Creates 3, name x refers to 3 >>> y = x       # Creates name y, refers to 3.>>> y = 4       # Creates ref for 4. Changes y.>>> print x     # No effect on x, still ref 3.3Type: Integer\\nData: 3\\nName: x\\nRef: <address1>\\nMonday, October 19, 2009       Assignment 1\\n¥So, for simple built-in datatypes (integers, floats, strings), \\nassignment behaves as you would expect:\\n>>> x = 3       # Creates 3, name x refers to 3 >>> y = x       # Creates name y, refers to 3.>>> y = 4       # Creates ref for 4. Changes y.>>> print x     # No effect on x, still ref 3.3Type: Integer\\nData: 3\\nName: x\\nRef: <address1>\\nName: y\\nRef: <address1>\\nMonday, October 19, 2009       Assignment 1\\n¥So, for simple built-in datatypes (integers, floats, strings), \\nassignment behaves as you would expect:\\n>>> x = 3       # Creates 3, name x refers to 3 >>> y = x       # Creates name y, refers to 3.>>> y = 4       # Creates ref for 4. Changes y.>>> print x     # No effect on x, still ref 3.3Type: Integer\\nData: 3\\nName: x\\nRef: <address1>\\nType: Integer\\nData: 4\\nName: y\\nRef: <address1>\\nMonday, October 19, 2009       Assignment 1\\n¥So, for simple built-in datatypes (integers, floats, strings), \\nassignment behaves as you would expect:\\n>>> x = 3       # Creates 3, name x refers to 3 >>> y = x       # Creates name y, refers to 3.>>> y = 4       # Creates ref for 4. Changes y.>>> print x     # No effect on x, still ref 3.3Type: Integer\\nData: 3\\nName: x\\nRef: <address1>\\nType: Integer\\nData: 4\\nName: y\\nRef: <address2>\\nMonday, October 19, 2009       Assignment 1\\n¥So, for simple built-in datatypes (integers, floats, strings), \\nassignment behaves as you would expect:\\n>>> x = 3       # Creates 3, name x refers to 3 >>> y = x       # Creates name y, refers to 3.>>> y = 4       # Creates ref for 4. Changes y.>>> print x     # No effect on x, still ref 3.3Type: Integer\\nData: 3\\nName: x\\nRef: <address1>\\nType: Integer\\nData: 4\\nName: y\\nRef: <address2>\\nMonday, October 19, 2009       Assignment 2\\n¥For other data types (lists, dictionaries, user-defined types), assignment \\nworks differently.  \\n¥These datatypes are \\nÒmutable.Ó\\n  ¥When we change these data, we do it \\nin place. \\n ¥We donÕt copy them into a new memory address each time.  \\n¥If we type y=x and then modify y, both x and y are changed.\\n>>> x = 3    \\nx = some mutable object>>> y = x    y = x\\n>>> y = 4    make a change to y\\n>>> print x    look at x\\n3      \\nx will be changed as wellimmutable\\nmutable\\nMonday, October 19, 2009       a123ba123b4a = [1, 2, 3]\\na.append(4)\\nb = a\\na123Why? Changing a Shared List\\nMonday, October 19, 2009       Our surprising example surprising no more...¥So now, hereÕs our code:\\n>>> a = [1, 2, 3] # a now references the list [1, 2, 3]\\n>>> b = a # b now references what a references\\n>>> a.append(4) # this \\nchanges\\n the list a references \\n>>> print b # if we print what b references,\\n[1, 2, 3, 4] # SURPRISE!  It has changedÉ\\nMonday, October 19, 2009Sequence types:\\n Tuples, Lists, and Strings\\nMonday, October 19, 2009       Sequence Types\\n1.Tuple\\n¥A simple \\nimmutable\\n ordered sequence of items\\n¥Items can be of mixed types, including collection types\\n2.Strings\\n¥Immutable\\n¥Conceptually very much like a tuple\\n3.List\\n¥Mutable\\n ordered sequence of items of mixed types\\nMonday, October 19, 2009       Similar Syntax\\n¥All three sequence types (tuples, strings, and lists) \\nshare much of the same syntax and functionality.\\n¥Key difference: \\n¥Tuples and strings are \\nimmutable\\n¥ Lists are \\nmutable\\n¥The operations shown in this section can be \\napplied to all sequence types\\n¥most examples will just show the operation \\nperformed on one\\nMonday, October 19, 2009       Sequence Types 1\\n¥Tuples are defined using parentheses (and commas).\\n>>> tu = (23, ÔabcÕ, 4.56, (2,3), ÔdefÕ)¥Lists are defined using square brackets (and commas).\\n>>> li = [ÒabcÓ, 34, 4.34, 23]¥Strings are defined using quotes (Ò, Ô, or ÒÒÒ).\\n>>> st = ÒHello WorldÓ>>> st = ÔHello WorldÕ>>> st = ÒÒÒThis is a multi-linestring that uses triple quotes.ÓÓÓMonday, October 19, 2009       Sequence Types 2\\n¥We can access individual members of a tuple, list, or string \\nusing square bracket ÒarrayÓ notation. \\n¥Note that all are 0 basedÉ \\n>>> tu = (23, ÔabcÕ, 4.56, (2,3), ÔdefÕ)>>> tu[1]     # Second item in the tuple. ÔabcÕ>>> li = [ÒabcÓ, 34, 4.34, 23] >>> li[1]      # Second item in the list. 34>>> st = ÒHello WorldÓ>>> st[1]   # Second character in string. ÔeÕMonday, October 19, 2009       Positive and negative indices\\n>>> t = (23, ÔabcÕ, 4.56, (2,3), ÔdefÕ)Positive index: count from the left, starting with 0.\\n  >>> t[1]   ÔabcÕ\\nNegative lookup: count from right, starting with Ð1.\\n  >>> t[-3]   4.56\\nMonday, October 19, 2009       Slicing: Return Copy of a Subset 1\\n>>> t = (23, ÔabcÕ, 4.56, (2,3), ÔdefÕ)Return a copy of the container with a subset of the original \\nmembers.  Start copying at the first index, and stop copying \\nbefore\\n the second index. \\n  >>> t[1:4] \\n  (ÔabcÕ, 4.56, (2,3))\\nYou can also use negative indices when slicing. \\n  >>> t[1:-1]  (ÔabcÕ, 4.56, (2,3))\\nMonday, October 19, 2009       Slicing: Return Copy of a Subset 2\\n>>> t = (23, ÔabcÕ, 4.56, (2,3), ÔdefÕ)Omit the first index to make a copy starting from the beginning \\nof the container.\\n  >>> t[:2]   (23, ÔabcÕ)\\nOmit the second index to make a copy starting at the first index \\nand going to the end of the container.\\n  >>> t[2:]  (4.56, (2,3), ÔdefÕ)\\nMonday, October 19, 2009       Copying the Whole Sequence\\nTo make a \\ncopy of an entire sequence, you can use \\n[:]. >>> t[:]  (23, ÔabcÕ, 4.56, (2,3), ÔdefÕ)\\nNote the difference between these two lines for mutable \\nsequences:>>> list2 = list1 # 2 names refer to 1 ref\\n      # Changing one affects both\\n>>> list2 = list1[:] # Two independent copies, two refs\\n                  \\nMonday, October 19, 2009       The ÔinÕ Operator\\n¥Boolean test whether a value is inside a container:\\n>>> t = [1, 2, 4, 5]>>> 3 in tFalse>>> 4 in tTrue>>> 4 not in tFalse¥For strings, tests for substrings\\n>>> a = \\'abcde\\'>>> \\'c\\' in aTrue>>> \\'cd\\' in aTrue>>> \\'ac\\' in aFalse¥Be careful: the \\nin keyword is also used in the syntax of \\nfor\\n loops and list comprehensions\\n.Monday, October 19, 2009       The + Operator\\n¥The + operator produces a \\nnew  tuple, list, or string whose \\nvalue is the concatenation of its arguments.\\n>>> (1, 2, 3) + (4, 5, 6) (1, 2, 3, 4, 5, 6)>>> [1, 2, 3] + [4, 5, 6] [1, 2, 3, 4, 5, 6]>>> ÒHelloÓ + Ò Ó + ÒWorldÓ ÔHello WorldÕMonday, October 19, 2009       The * Operator\\n¥The * operator produces a \\nnew tuple, list, or string that \\nÒrepeatsÓ the original content.\\n>>> (1, 2, 3) * 3(1, 2, 3, 1, 2, 3, 1, 2, 3)>>> [1, 2, 3] * 3[1, 2, 3, 1, 2, 3, 1, 2, 3]>>> ÒHelloÓ * 3ÔHelloHelloHelloÕMonday, October 19, 2009Mutability:\\nTuples vs. Lists\\nMonday, October 19, 2009       Tuples: Immutable\\n>>> t = (23, ÔabcÕ, 4.56, (2,3), ÔdefÕ)>>> t[2] = 3.14Traceback (most recent call last):  File \"<pyshell#75>\", line 1, in -toplevel-    tu[2] = 3.14TypeError: object doesn\\'t support item assignmentYou canÕt change a tuple. \\nYou can make a fresh tuple and assign its reference to a previously used \\nname. >>>\\n t = (23, ÔabcÕ, 3.14, (2,3), ÔdefÕ)Monday, October 19, 2009       Lists: Mutable\\n>>> li = [ÔabcÕ, 23, 4.34, 23]>>> li[1] = 45 >>> li[ÔabcÕ, 45, 4.34, 23]¥We can change lists \\nin place. ¥Name li still points to the same memory reference when weÕre \\ndone. ¥The mutability of lists means that  they arenÕt as fast as tuples. \\nMonday, October 19, 2009       Operations on Lists Only 1 \\n>>> li = [1, 11, 3, 4, 5]>>> li.append(ÔaÕ) # Our first exposure to \\nmethod syntax>>> li[1, 11, 3, 4, 5, ÔaÕ]>>> li.insert(2, ÔiÕ)>>>li[1, 11, ÔiÕ, 3, 4, 5, ÔaÕ]Monday, October 19, 2009       The extend\\n method vs the  \\n+ operator.  \\n¥+ creates a fresh list (with a new memory reference)\\n¥extend\\n operates on list \\nli in place.>>> li.extend([9, 8, 7])           >>>li[1, 2, ÔiÕ, 3, 4, 5, ÔaÕ, 9, 8, 7]Confusing\\n: ¥Extend takes a list as an argument. \\n¥Append takes a singleton as an argument.\\n>>> li.append([10, 11, 12])>>> li[1, 2, ÔiÕ, 3, 4, 5, ÔaÕ, 9, 8, 7, [10, 11, 12]]Monday, October 19, 2009       Operations on Lists Only 3\\n>>> li = [ÔaÕ, ÔbÕ, ÔcÕ, ÔbÕ]>>> li.index(ÔbÕ)     # index of first occurrence1>>> li.count(ÔbÕ)     # number of occurrences2>>> li.remove(ÔbÕ)    # remove first occurrence>>> li  [ÔaÕ, ÔcÕ, ÔbÕ]Monday, October 19, 2009       Operations on Lists Only 4\\n>>> li = [5, 2, 6, 8]>>> li.reverse()    # reverse the list *in place*>>> li  [8, 6, 2, 5]>>> li.sort()       # sort the list *in place*>>> li  [2, 5, 6, 8]>>> li.sort(some_function)      # sort in place using user-defined comparisonMonday, October 19, 2009       Tuples vs. Lists\\n¥Lists slower but more powerful than tuples.\\n¥Lists can be modified, and they have lots of handy operations we can \\nperform on them.\\n¥Tuples are immutable and have fewer features.\\n¥To convert between tuples and lists use the list() and tuple() \\nfunctions:\\nli = list(tu)tu = tuple(li)Monday, October 19, 2009Dictionaries\\n63Monday, October 19, 2009       Dictionaries: A Mapping type\\n¥Dictionaries store a mapping between a set of keys \\nand a set of values.\\n¥Keys can be any immutable type.\\n¥Values can be any type\\n¥A single dictionary can store values of different types\\n¥You can define, modify, view, lookup, and delete \\nthe key-value pairs in the dictionary.\\nMonday, October 19, 2009       Using dictionaries\\n>>> d = {ÔuserÕ:ÔbozoÕ, ÔpswdÕ:1234}>>> d[ÔuserÕ] ÔbozoÕ>>> d[ÔpswdÕ]1234>>> d[ÔbozoÕ]Traceback (innermost last):  File Ô<interactive input>Õ line 1, in ?KeyError: bozo>>> d = {ÔuserÕ:ÔbozoÕ, ÔpswdÕ:1234}>>> d[ÔuserÕ] = ÔclownÕ>>> d{ÔuserÕ:ÔclownÕ, ÔpswdÕ:1234}>>> d[ÔidÕ] = 45>>> d{ÔuserÕ:ÔclownÕ, ÔidÕ:45, ÔpswdÕ:1234}>>> d = {ÔuserÕ:ÔbozoÕ, ÔpÕ:1234, ÔiÕ:34}>>> del d[ÔuserÕ]           # Remove one.>>> d{ÔpÕ:1234, ÔiÕ:34}>>> d.clear()               # Remove all.>>> d{}>>> d = {ÔuserÕ:ÔbozoÕ, ÔpÕ:1234, ÔiÕ:34}>>> d.keys()            # List of keys.[ÔuserÕ, ÔpÕ, ÔiÕ]>>> d.values()          # List of values.[ÔbozoÕ, 1234, 34]>>> d.items()      # List of item tuples.[(ÔuserÕ,ÔbozoÕ), (ÔpÕ,1234), (ÔiÕ,34)]Monday, October 19, 2009Functions\\nMonday, October 19, 2009       Functions\\n¥def creates a function and assigns it a name\\n¥return sends a result back to the caller\\n¥Arguments are passed by assignment\\n¥Arguments and return types are not declared\\n     def <name>(arg1, arg2, ..., argN):!<statements>\\n!return <value>\\ndef times(x,y):!return x*y\\nMonday, October 19, 2009       Passing Arguments to Functions\\n¥Arguments are passed by assignment\\n¥Passed arguments are assigned to local names\\n¥Assignment to argument names don\\'t affect the \\ncaller¥Changing a mutable argument may affect the caller\\ndef changer (x,y):!x = 2\\n!!!\\n# changes local value of x only\\n!y[0] = \\'hi\\'\\n!!\\n      # changes shared object\\nMonday, October 19, 2009       Optional Arguments\\n¥Can define defaults for arguments that need not be \\npassed     def func(a, b, c=10, d=100):!print a, b, c, d\\n>>> func(1,2)1 2 10 100>>> func(1,2,3,4)1,2,3,4Monday, October 19, 2009       Gotchas\\n¥All functions in Python have a return value\\n¥even if no return line inside the code.\\n¥Functions without a return return the special value \\nNone.¥There is no function overloading in Python.\\n¥Two different functions canÕt have the same name, even if they \\nhave different arguments.\\n¥Functions can be used as any other data type. \\nThey can be:¥Arguments to function\\n¥Return values of functions\\n¥Assigned to variables\\n¥Parts of tuples, lists, etc\\nMonday, October 19, 2009Control of Flow\\n71Monday, October 19, 2009       Examples\\nif x == 3: print ÒX equals 3.Óelif x == 2: print ÒX equals 2.Óelse: print ÒX equals something else.Óprint ÒThis is outside the ÔifÕ.Óx = 3while x < 10:   if x > 7:       x += 2       continue   x = x + 1   print ÒStill in the loop.Ó   if x == 8:       breakprint ÒOutside of the loop.Óassert(number_of_players < 5) for x in range(10):   if x > 7:       x += 2       continue   x = x + 1   print ÒStill in the loop.Ó   if x == 8:       breakprint ÒOutside of the loop.ÓMonday, October 19, 2009Modules\\nMonday, October 19, 2009       Why Use Modules?\\n¥Code reuse¥Routines can be called multiple times within a program\\n¥Routines can be used from multiple programs\\n¥Namespace partitioning\\n¥Group data together with functions used for that data\\n¥Implementing shared services or data\\n¥Can provide global data structure that is accessed by multiple \\nsubprograms\\nMonday, October 19, 2009       Modules\\n¥Modules are functions and variables defined in \\nseparate files\\n¥Items are imported using from or import\\n    from module import functionfunction()import modulemodule.function()¥Modules are namespaces\\n¥Can be used to organize variable names, i.e.\\n  atom.position = atom.position - molecule.positionMonday, October 19, 2009Classes and Objects\\nMonday, October 19, 2009       What is an Object?\\n¥A software item that contains variables and \\nmethods\\n¥Object Oriented Design focuses on\\n¥Encapsulation: \\nÑdividing the code into a public interface, and a private implementation \\nof that interface\\n¥Polymorphism:\\nÑthe ability to overload standard operators so that they have appropriate \\nbehavior based on their context\\n¥Inheritance:\\nÑthe ability to create subclasses that contain specializations of their \\nparents\\nMonday, October 19, 2009       Example\\nclass atom(object):!def __init__(self,atno,x,y,z):\\n!!\\nself.atno = atno\\n!!\\nself.position = (x,y,z)\\n!def symbol(self):   \\n# a class method!!\\nreturn Atno_to_Symbol[atno]\\n!def __repr__(self): \\n# overloads printing!!\\nreturn \\'%d %10.4f %10.4f %10.4f\\' %\\n!!!\\n(self.atno, self.position[0],\\n!!!\\n self.position[1],self.position[2])\\n>>> at = atom(6,0.0,1.0,2.0)>>> print at6  0.0000  1.0000 2.0000>>> at.symbol()\\'C\\'Monday, October 19, 2009       Atom Class\\n¥Overloaded the default constructor\\n¥Defined class variables (atno,position) that are \\npersistent and local to the atom object\\n¥Good way to manage shared memory:\\n¥instead of passing long lists of arguments, encapsulate some of \\nthis data into an object, and pass the object.\\n¥much cleaner programs result\\n¥Overloaded the print operator\\n¥We now want to use the atom class to build \\nmolecules...Monday, October 19, 2009       Molecule Class\\nclass molecule:!def __init__(self,name=\\'Generic\\'):\\n!!\\nself.name = name\\n!!\\nself.atomlist = []\\n!def addatom(self,atom):\\n!!\\nself.atomlist.append(atom)\\n!def __repr__(self):\\n!!\\nstr = \\'This is a molecule named %s\\\\n\\' % self.name\\n!!\\nstr = str+\\'It has %d atoms\\\\n\\' % len(self.atomlist)\\n!!\\nfor atom in self.atomlist:\\n!!!\\nstr = str + `atom` + \\'\\\\n\\'\\n!!\\nreturn str\\nMonday, October 19, 2009       Using Molecule Class\\n           >>> mol = molecule(\\'Water\\')>>> at = atom(8,0.,0.,0.)>>> mol.addatom(at)>>> mol.addatom(atom(1,0.,0.,1.))>>> mol.addatom(atom(1,0.,1.,0.))>>> print molThis is a molecule named WaterIt has 3 atoms8  0.000 0.000 0.0001  0.000 0.000 1.0001  0.000 1.000 0.000¥Note that the print function calls the atoms print \\nfunction\\n¥Code reuse: only have to type the code that prints an atom \\nonce; this means that if you change the atom specification, you \\nonly have one place to update.\\nMonday, October 19, 2009       Inheritance\\n           class qm_molecule(molecule):  def addbasis(self):    self.basis = []    for atom in self.atomlist:      self.basis = add_bf(atom,self.basis)¥__init__, __repr__, and __addatom__ are taken \\nfrom the parent class (molecule)\\n¥Added a new function addbasis() to add a basis set\\n¥Another example of code reuse\\n¥Basic functions don\\'t have to be retyped, just inherited\\n¥Less to rewrite when specifications change\\nMonday, October 19, 2009       Overloading           class qm_molecule(molecule):         def __repr__(self):!!\\n     str = \\'QM Rules!\\\\n\\'\\n!!\\n     for atom in self.atomlist:\\n!!!\\n str = str + `atom` + \\'\\\\n\\'\\n!!\\n     return str\\n¥Now we only inherit __init__ and addatom from the \\nparent¥We define a new version of __repr__ specially for \\nQMMonday, October 19, 2009       Adding to Parent Functions\\n¥Sometimes you want to extend, rather than \\nreplace, the parent functions.\\n           class qm_molecule(molecule):!       def __init__(self,name=\"Generic\",basis=\"6-31G**\"):\\n!!\\n    self.basis = basis\\n!!\\n    super(qm_molecule, self).__init__(name)\\nMonday, October 19, 2009       Public and Private Data\\n¥In Python anything with two leading underscores \\nis private\\n         __a, __my_variable\\n¥Anything with one leading underscore is semi-\\nprivate, and you should feel guilty accessing this \\ndata directly.\\n         _b¥Sometimes useful as an intermediate step to making data \\nprivate\\nMonday, October 19, 2009The Extra Stuff...\\n86Monday, October 19, 2009       File I/O, Strings, Exceptions...\\nfileptr = open(ÔfilenameÕ)somestring = fileptr.read()for line in fileptr:   print linefileptr.close()>>> a = 1>>> b = 2.4>>> c = \\'Tom\\'>>> \\'%s has %d coins worth a total of $%.02f\\' % (c, a, b)\\'Tom has 1 coins worth a total of $2.40\\'>>> try:...     1 / 0... except:...     print(\\'That was silly!\\')... finally:...     print(\\'This gets executed no matter what\\')... That was silly!This gets executed no matter whatMonday, October 19, 2009'"
      ]
     },
     "execution_count": 8,
     "metadata": {},
     "output_type": "execute_result"
    }
   ],
   "source": [
    "file1 = open('testfile.txt', 'r+')\n",
    "file1.read()"
   ]
  },
  {
   "cell_type": "code",
   "execution_count": 14,
   "metadata": {},
   "outputs": [],
   "source": [
    "pdffileobj = open('E://notes//noorain_python//py_pdf(26-Jul-20)//PDF1.pdf', 'rb')\n",
    "pdfreader = PyPDF2.PdfFileReader(pdffileobj)"
   ]
  },
  {
   "cell_type": "code",
   "execution_count": 15,
   "metadata": {},
   "outputs": [],
   "source": [
    "Total_Page_No = pdfreader.numPages\n",
    "\n",
    "count=0\n",
    "Pdf_all_text = ''\n",
    "\n",
    "while count < Total_Page_No:\n",
    "    PageObj = pdfreader.getPage(count)\n",
    "    count += 1\n",
    "    Pdf_all_text += PageObj.extractText()\n",
    "    line1 = Pdf_all_text.splitlines()\n",
    "    \n",
    "    \n",
    "workbook = xlsxwriter.Workbook('output.xlsx')\n",
    "worksheet = workbook.add_worksheet('Results')\n",
    "    \n",
    "while count < len(line1):\n",
    "    worksheet.write(count,0,line1[count])\n",
    "    count +=1\n",
    "\n",
    "workbook.close()"
   ]
  },
  {
   "cell_type": "code",
   "execution_count": 10,
   "metadata": {},
   "outputs": [],
   "source": [
    "#To create Notepad File\n",
    "data = 'data.txt'\n",
    "file = open(data, 'a')"
   ]
  },
  {
   "cell_type": "code",
   "execution_count": 11,
   "metadata": {},
   "outputs": [
    {
     "data": {
      "text/plain": [
       "936"
      ]
     },
     "execution_count": 11,
     "metadata": {},
     "output_type": "execute_result"
    }
   ],
   "source": [
    "#To transfer PDF data into Notepad\n",
    "\n",
    "#Get Total No of Pages\n",
    "Total_Pages = pdfreader.getNumPages()\n",
    "\n",
    "i = 0\n",
    "All_PDF_TEXT = ''\n",
    "while i < Total_Pages:\n",
    "    fileobj = pdfreader.getPage(i)\n",
    "    i +=1\n",
    "    All_PDF_TEXT +=fileobj.extractText()\n",
    "    \n",
    "file.write(All_PDF_TEXT)"
   ]
  },
  {
   "cell_type": "code",
   "execution_count": 2,
   "metadata": {},
   "outputs": [],
   "source": [
    "#To read pdf file\n",
    "pdffile = open(r'E:\\notes\\noorain_python\\py_pdf(26-Jul-20)\\pdfs\\sample.pdf', 'rb')\n",
    "pdfreader = PyPDF2.PdfFileReader(pdffile)"
   ]
  },
  {
   "cell_type": "code",
   "execution_count": 3,
   "metadata": {},
   "outputs": [],
   "source": [
    "#To create new txt file\n",
    "file = 'pdf_data.txt'\n",
    "pdf_data = open(file, 'a')"
   ]
  },
  {
   "cell_type": "code",
   "execution_count": 12,
   "metadata": {},
   "outputs": [
    {
     "data": {
      "text/plain": [
       "936"
      ]
     },
     "execution_count": 12,
     "metadata": {},
     "output_type": "execute_result"
    }
   ],
   "source": [
    "#To Get all number of pages\n",
    "Total_Pages = pdfreader.getNumPages()\n",
    "\n",
    "#Create Blank pdf file\n",
    "PDF_File = ''\n",
    "\n",
    "count = 0\n",
    "while count < Total_Pages:\n",
    "    #To Get pages of above pdf\n",
    "    pageobj = pdfreader.getPage(count)\n",
    "    count +=1\n",
    "    #To Transfer data in Blank Pdf\n",
    "    PDF_File += pageobj.extractText()\n",
    "    \n",
    "pdf_data.write(PDF_File)"
   ]
  },
  {
   "cell_type": "code",
   "execution_count": 2,
   "metadata": {},
   "outputs": [
    {
     "name": "stderr",
     "output_type": "stream",
     "text": [
      "PdfReadWarning: Xref table not zero-indexed. ID numbers for objects will be corrected. [pdf.py:1736]\n"
     ]
    }
   ],
   "source": [
    "pdfreader = PyPDF2.PdfFileReader(r'E:\\notes\\noorain_python\\py_pdf(26-Jul-20)\\pdfs\\sample2.pdf', 'rb')"
   ]
  },
  {
   "cell_type": "code",
   "execution_count": 3,
   "metadata": {},
   "outputs": [
    {
     "name": "stdout",
     "output_type": "stream",
     "text": [
      "1\n",
      "Lorem Ipsum\n",
      " \n",
      "\"Neque porro quisquam est qui dolorem ipsum quia dolor sit amet, consectetur, adipisci velit...\"\n",
      " \n",
      "\"There is no one who loves pain itself, who seeks after it and wants to have it, simply because it is pain...\"\n",
      " \n",
      " \n",
      "Lorem ipsum dolor sit amet, consectetur adipiscing elit. Mauris vitae erat nibh. Morbi imperdiet \n",
      "scelerisque massa, non ornare turpis elementum consectetur. Praesent laoreet vitae libero eget \n",
      "pulvinar. Fusce malesuada massa at tincidunt tincidunt. Orci var\n",
      "ius natoque penatibus et magnis dis \n",
      "parturient montes, nascetur ridiculus mus. Nam sed tincidunt turpis. Quisque tincidunt dictum augue \n",
      "sed egestas. Ut scelerisque leo sit amet lectus vehicula, et posuere enim porttitor. Fusce porta varius \n",
      "elit vel consequ\n",
      "at. \n",
      "Class aptent taciti sociosqu ad litora torquent per conubia nostra, per inceptos \n",
      "himenaeos. Quisque in ex libero. Nullam augue mauris, blandit sit amet neque eu, viverra congue est.\n",
      " \n",
      "Mauris ac auctor dolor. Proin maximus quam id magna vulputate ultricie\n",
      "s. Maecenas lacinia dolor \n",
      "eros, a bibendum tellus bibendum vitae. Praesent vel neque imperdiet, eleifend est vel, pharetra ex. \n",
      "Vivamus a hendrerit nisl. Etiam dignissim sed arcu in cursus. \n",
      "Pellentesque rutrum semper justo, ut \n",
      "ornare mi vehicula sodales. Fu\n",
      "sce ut imperdiet nisl. Nullam suscipit, lectus et semper ornare, ante nisi \n",
      "semper lorem, in viverra mauris augue non eros. \n",
      "Nam tincidunt mauris mi, nec congue est bibendum \n",
      "vel. Morbi ullamcorper eros at tempus suscipit. Nunc mattis sed lectus at eleifend. \n",
      "Morbi convallis \n",
      "augue metus, accumsan malesuada elit consectetur quis. Donec vel turpis efficitur, malesuada ligula \n",
      "ut, blandit dui. Integer at purus et quam blandit volutpat. Donec vel orci efficitur, sodales diam nec, \n",
      "malesuada ipsum.\n",
      " \n",
      "Nullam euismod, odi\n",
      "o in ornare fermentum, nunc sapien vestibulum erat, aliquam elementum est est \n",
      "sed erat. \n",
      "Proin facilisis lacus vitae magna volutpat, vitae commodo velit volutpat. Aliquam rutrum erat \n",
      "a nibh elementum, quis eleifend nulla fringilla. Proin sed velit \n",
      "pulvinar est consequat rhoncus ut non \n",
      "augue. Cras id velit purus. Aliquam convallis venenatis ultrices. Nam pulvinar aliquet magna, at ornare \n",
      "ligula cursus vel. Curabitur vitae cursus ante. Morbi congue lorem ac ante pretium commodo. Nulla \n",
      "imperdiet diam e\n",
      "get tortor dignissim egestas vitae sit amet sem.\n",
      " \n",
      "In purus elit, finibus quis nisi ut, placerat consectetur erat. Pellentesque habitant morbi tristique \n",
      "senectus et netus et malesuada fames ac turpis egestas. Aenean non metus turpis. Vestibulum at \n",
      "iaculis ma\n",
      "ssa. Nunc orci magna, congue a egestas nec, vulputate non mauris. Fusce malesuada a \n",
      "ipsum eu porttitor. Cras pretium porta tempor. Integer pulvinar convallis ipsum at varius. Cras convallis \n",
      "varius arcu eget egestas. Praesent ullamcorper nisl ex, et mollis \n",
      "ante sagittis vel. Ut elementum ligula \n",
      "enim. Maecenas massa dui, malesuada in metus nec, vulputate efficitur nibh.\n",
      " \n",
      "Curabitur dictum lacus magna. Integer ex velit, malesuada eu ligula id, suscipit sagittis lacus. \n",
      "Phasellus cursus viverra ultrices. Maecenas \n",
      "magna arcu, finibus eget elit vitae, iaculis ornare tellus. \n",
      "Nullam faucibus libero felis, in efficitur lorem vestibulum id. Aliquam sagittis scelerisque tellus, a \n",
      "gravida orci suscipit quis. Orci varius natoque penatibus et magnis dis parturient montes, na\n",
      "scetur \n",
      "ridiculus mus. Pellentesque ac risus arcu. Aliquam condimentum massa sed tincidunt tincidunt. \n",
      "Pellentesque non mauris in elit rhoncus condimentum. Vivamus tempus lacus ex. Integer malesuada, \n",
      "justo sed finibus egestas, risus velit porta erat, a tempo\n",
      "r sem augue vel leo. Ut nisi massa, egestas \n",
      "quis orci nec, varius condimentum lorem. Nullam hendrerit feugiat lacinia. Pellentesque habitant morbi \n",
      "tristique senectus et netus et malesuada fames ac turpis egestas. Vestibulum ante ipsum primis in \n",
      "faucibus or\n",
      "ci luctus et ultrices posuere cubilia Curae;\n",
      " \n",
      "\n"
     ]
    }
   ],
   "source": [
    "#To Get Total no Pages\n",
    "print(pdfreader.getNumPages())\n",
    "\n",
    "#To be on page no\n",
    "page = pdfreader.getPage(0)\n",
    "\n",
    "#To print getPage command value\n",
    "print(page.extractText())"
   ]
  },
  {
   "cell_type": "code",
   "execution_count": 4,
   "metadata": {},
   "outputs": [],
   "source": [
    "note_file = 'note_file.txt'\n",
    "note_file = open(note_file, 'a')"
   ]
  },
  {
   "cell_type": "code",
   "execution_count": 12,
   "metadata": {},
   "outputs": [
    {
     "data": {
      "text/plain": [
       "28577"
      ]
     },
     "execution_count": 12,
     "metadata": {},
     "output_type": "execute_result"
    }
   ],
   "source": [
    "Total_Pdf_Pages = pdfreader.getNumPages()\n",
    "\n",
    "pdf_file = ' '\n",
    "i=0\n",
    "while i < Total_Pdf_Pages:\n",
    "    page = pdfreader.getPage(i)\n",
    "    i += 1\n",
    "    pdf_file += page.extractText()\n",
    "    \n",
    "note_file.write(pdf_file)"
   ]
  },
  {
   "cell_type": "code",
   "execution_count": 2,
   "metadata": {},
   "outputs": [
    {
     "name": "stderr",
     "output_type": "stream",
     "text": [
      "PdfReadWarning: Xref table not zero-indexed. ID numbers for objects will be corrected. [pdf.py:1736]\n"
     ]
    }
   ],
   "source": [
    "pdffile = PyPDF2.PdfFileReader(r'E:\\notes\\noorain_python\\py_pdf(26-Jul-20)\\pdfs\\sample2.pdf', 'rb')"
   ]
  },
  {
   "cell_type": "code",
   "execution_count": 5,
   "metadata": {},
   "outputs": [],
   "source": [
    "total_pages = pdffile.getNumPages()\n",
    "\n",
    "i = 0\n",
    "Pdf = ' '\n",
    "\n",
    "while i < total_pages:\n",
    "    page = pdffile.getPage(i)\n",
    "    i += 1\n",
    "    Pdf += page.extractText()\n",
    "    split_lines = Pdf.splitlines()\n",
    "    \n",
    "wb = xlsxwriter.Workbook('output.xlsx')\n",
    "ws = wb.add_worksheet('Result')\n",
    "\n",
    "while i < (len(split_lines)):\n",
    "    ws.write(i,0,split_lines[i])\n",
    "    i += 1\n",
    "wb.close()    "
   ]
  },
  {
   "cell_type": "code",
   "execution_count": 14,
   "metadata": {},
   "outputs": [
    {
     "data": {
      "text/html": [
       "<div>\n",
       "<style scoped>\n",
       "    .dataframe tbody tr th:only-of-type {\n",
       "        vertical-align: middle;\n",
       "    }\n",
       "\n",
       "    .dataframe tbody tr th {\n",
       "        vertical-align: top;\n",
       "    }\n",
       "\n",
       "    .dataframe thead th {\n",
       "        text-align: right;\n",
       "    }\n",
       "</style>\n",
       "<table border=\"1\" class=\"dataframe\">\n",
       "  <thead>\n",
       "    <tr style=\"text-align: right;\">\n",
       "      <th></th>\n",
       "      <th>0</th>\n",
       "    </tr>\n",
       "  </thead>\n",
       "  <tbody>\n",
       "    <tr>\n",
       "      <th>0</th>\n",
       "      <td>\"Neque porro quisquam est qui dolorem ipsum qu...</td>\n",
       "    </tr>\n",
       "    <tr>\n",
       "      <th>1</th>\n",
       "      <td>\"There is no one who loves pain itself, who se...</td>\n",
       "    </tr>\n",
       "    <tr>\n",
       "      <th>2</th>\n",
       "      <td>Lorem ipsum dolor sit amet, consectetur adipis...</td>\n",
       "    </tr>\n",
       "    <tr>\n",
       "      <th>3</th>\n",
       "      <td>scelerisque massa, non ornare turpis elementum...</td>\n",
       "    </tr>\n",
       "    <tr>\n",
       "      <th>4</th>\n",
       "      <td>pulvinar. Fusce malesuada massa at tincidunt t...</td>\n",
       "    </tr>\n",
       "    <tr>\n",
       "      <th>5</th>\n",
       "      <td>ius natoque penatibus et magnis dis</td>\n",
       "    </tr>\n",
       "    <tr>\n",
       "      <th>6</th>\n",
       "      <td>parturient montes, nascetur ridiculus mus. Nam...</td>\n",
       "    </tr>\n",
       "    <tr>\n",
       "      <th>7</th>\n",
       "      <td>sed egestas. Ut scelerisque leo sit amet lectu...</td>\n",
       "    </tr>\n",
       "    <tr>\n",
       "      <th>8</th>\n",
       "      <td>elit vel consequ</td>\n",
       "    </tr>\n",
       "    <tr>\n",
       "      <th>9</th>\n",
       "      <td>at.</td>\n",
       "    </tr>\n",
       "    <tr>\n",
       "      <th>10</th>\n",
       "      <td>Class aptent taciti sociosqu ad litora torquen...</td>\n",
       "    </tr>\n",
       "    <tr>\n",
       "      <th>11</th>\n",
       "      <td>himenaeos. Quisque in ex libero. Nullam augue ...</td>\n",
       "    </tr>\n",
       "    <tr>\n",
       "      <th>12</th>\n",
       "      <td>Mauris ac auctor dolor. Proin maximus quam id ...</td>\n",
       "    </tr>\n",
       "    <tr>\n",
       "      <th>13</th>\n",
       "      <td>s. Maecenas lacinia dolor</td>\n",
       "    </tr>\n",
       "    <tr>\n",
       "      <th>14</th>\n",
       "      <td>eros, a bibendum tellus bibendum vitae. Praese...</td>\n",
       "    </tr>\n",
       "    <tr>\n",
       "      <th>15</th>\n",
       "      <td>Vivamus a hendrerit nisl. Etiam dignissim sed ...</td>\n",
       "    </tr>\n",
       "    <tr>\n",
       "      <th>16</th>\n",
       "      <td>Pellentesque rutrum semper justo, ut</td>\n",
       "    </tr>\n",
       "    <tr>\n",
       "      <th>17</th>\n",
       "      <td>ornare mi vehicula sodales. Fu</td>\n",
       "    </tr>\n",
       "    <tr>\n",
       "      <th>18</th>\n",
       "      <td>sce ut imperdiet nisl. Nullam suscipit, lectus...</td>\n",
       "    </tr>\n",
       "    <tr>\n",
       "      <th>19</th>\n",
       "      <td>semper lorem, in viverra mauris augue non eros.</td>\n",
       "    </tr>\n",
       "    <tr>\n",
       "      <th>20</th>\n",
       "      <td>Nam tincidunt mauris mi, nec congue est bibendum</td>\n",
       "    </tr>\n",
       "    <tr>\n",
       "      <th>21</th>\n",
       "      <td>vel. Morbi ullamcorper eros at tempus suscipit...</td>\n",
       "    </tr>\n",
       "    <tr>\n",
       "      <th>22</th>\n",
       "      <td>Morbi convallis</td>\n",
       "    </tr>\n",
       "    <tr>\n",
       "      <th>23</th>\n",
       "      <td>augue metus, accumsan malesuada elit consectet...</td>\n",
       "    </tr>\n",
       "    <tr>\n",
       "      <th>24</th>\n",
       "      <td>ut, blandit dui. Integer at purus et quam blan...</td>\n",
       "    </tr>\n",
       "    <tr>\n",
       "      <th>25</th>\n",
       "      <td>malesuada ipsum.</td>\n",
       "    </tr>\n",
       "    <tr>\n",
       "      <th>26</th>\n",
       "      <td>Nullam euismod, odi</td>\n",
       "    </tr>\n",
       "    <tr>\n",
       "      <th>27</th>\n",
       "      <td>o in ornare fermentum, nunc sapien vestibulum ...</td>\n",
       "    </tr>\n",
       "    <tr>\n",
       "      <th>28</th>\n",
       "      <td>sed erat.</td>\n",
       "    </tr>\n",
       "    <tr>\n",
       "      <th>29</th>\n",
       "      <td>Proin facilisis lacus vitae magna volutpat, vi...</td>\n",
       "    </tr>\n",
       "    <tr>\n",
       "      <th>30</th>\n",
       "      <td>a nibh elementum, quis eleifend nulla fringill...</td>\n",
       "    </tr>\n",
       "    <tr>\n",
       "      <th>31</th>\n",
       "      <td>pulvinar est consequat rhoncus ut non</td>\n",
       "    </tr>\n",
       "    <tr>\n",
       "      <th>32</th>\n",
       "      <td>augue. Cras id velit purus. Aliquam convallis ...</td>\n",
       "    </tr>\n",
       "    <tr>\n",
       "      <th>33</th>\n",
       "      <td>ligula cursus vel. Curabitur vitae cursus ante...</td>\n",
       "    </tr>\n",
       "    <tr>\n",
       "      <th>34</th>\n",
       "      <td>imperdiet diam e</td>\n",
       "    </tr>\n",
       "    <tr>\n",
       "      <th>35</th>\n",
       "      <td>get tortor dignissim egestas vitae sit amet sem.</td>\n",
       "    </tr>\n",
       "    <tr>\n",
       "      <th>36</th>\n",
       "      <td>In purus elit, finibus quis nisi ut, placerat ...</td>\n",
       "    </tr>\n",
       "    <tr>\n",
       "      <th>37</th>\n",
       "      <td>senectus et netus et malesuada fames ac turpis...</td>\n",
       "    </tr>\n",
       "    <tr>\n",
       "      <th>38</th>\n",
       "      <td>iaculis ma</td>\n",
       "    </tr>\n",
       "    <tr>\n",
       "      <th>39</th>\n",
       "      <td>ssa. Nunc orci magna, congue a egestas nec, vu...</td>\n",
       "    </tr>\n",
       "    <tr>\n",
       "      <th>40</th>\n",
       "      <td>ipsum eu porttitor. Cras pretium porta tempor....</td>\n",
       "    </tr>\n",
       "    <tr>\n",
       "      <th>41</th>\n",
       "      <td>varius arcu eget egestas. Praesent ullamcorper...</td>\n",
       "    </tr>\n",
       "    <tr>\n",
       "      <th>42</th>\n",
       "      <td>ante sagittis vel. Ut elementum ligula</td>\n",
       "    </tr>\n",
       "    <tr>\n",
       "      <th>43</th>\n",
       "      <td>enim. Maecenas massa dui, malesuada in metus n...</td>\n",
       "    </tr>\n",
       "    <tr>\n",
       "      <th>44</th>\n",
       "      <td>Curabitur dictum lacus magna. Integer ex velit...</td>\n",
       "    </tr>\n",
       "    <tr>\n",
       "      <th>45</th>\n",
       "      <td>Phasellus cursus viverra ultrices. Maecenas</td>\n",
       "    </tr>\n",
       "    <tr>\n",
       "      <th>46</th>\n",
       "      <td>magna arcu, finibus eget elit vitae, iaculis o...</td>\n",
       "    </tr>\n",
       "    <tr>\n",
       "      <th>47</th>\n",
       "      <td>Nullam faucibus libero felis, in efficitur lor...</td>\n",
       "    </tr>\n",
       "    <tr>\n",
       "      <th>48</th>\n",
       "      <td>gravida orci suscipit quis. Orci varius natoqu...</td>\n",
       "    </tr>\n",
       "    <tr>\n",
       "      <th>49</th>\n",
       "      <td>scetur</td>\n",
       "    </tr>\n",
       "    <tr>\n",
       "      <th>50</th>\n",
       "      <td>ridiculus mus. Pellentesque ac risus arcu. Ali...</td>\n",
       "    </tr>\n",
       "    <tr>\n",
       "      <th>51</th>\n",
       "      <td>Pellentesque non mauris in elit rhoncus condim...</td>\n",
       "    </tr>\n",
       "    <tr>\n",
       "      <th>52</th>\n",
       "      <td>justo sed finibus egestas, risus velit porta e...</td>\n",
       "    </tr>\n",
       "    <tr>\n",
       "      <th>53</th>\n",
       "      <td>r sem augue vel leo. Ut nisi massa, egestas</td>\n",
       "    </tr>\n",
       "    <tr>\n",
       "      <th>54</th>\n",
       "      <td>quis orci nec, varius condimentum lorem. Nulla...</td>\n",
       "    </tr>\n",
       "    <tr>\n",
       "      <th>55</th>\n",
       "      <td>tristique senectus et netus et malesuada fames...</td>\n",
       "    </tr>\n",
       "    <tr>\n",
       "      <th>56</th>\n",
       "      <td>faucibus or</td>\n",
       "    </tr>\n",
       "    <tr>\n",
       "      <th>57</th>\n",
       "      <td>ci luctus et ultrices posuere cubilia Curae;</td>\n",
       "    </tr>\n",
       "  </tbody>\n",
       "</table>\n",
       "</div>"
      ],
      "text/plain": [
       "                                                    0\n",
       "0   \"Neque porro quisquam est qui dolorem ipsum qu...\n",
       "1   \"There is no one who loves pain itself, who se...\n",
       "2   Lorem ipsum dolor sit amet, consectetur adipis...\n",
       "3   scelerisque massa, non ornare turpis elementum...\n",
       "4   pulvinar. Fusce malesuada massa at tincidunt t...\n",
       "5                ius natoque penatibus et magnis dis \n",
       "6   parturient montes, nascetur ridiculus mus. Nam...\n",
       "7   sed egestas. Ut scelerisque leo sit amet lectu...\n",
       "8                                    elit vel consequ\n",
       "9                                                at. \n",
       "10  Class aptent taciti sociosqu ad litora torquen...\n",
       "11  himenaeos. Quisque in ex libero. Nullam augue ...\n",
       "12  Mauris ac auctor dolor. Proin maximus quam id ...\n",
       "13                         s. Maecenas lacinia dolor \n",
       "14  eros, a bibendum tellus bibendum vitae. Praese...\n",
       "15  Vivamus a hendrerit nisl. Etiam dignissim sed ...\n",
       "16              Pellentesque rutrum semper justo, ut \n",
       "17                     ornare mi vehicula sodales. Fu\n",
       "18  sce ut imperdiet nisl. Nullam suscipit, lectus...\n",
       "19   semper lorem, in viverra mauris augue non eros. \n",
       "20  Nam tincidunt mauris mi, nec congue est bibendum \n",
       "21  vel. Morbi ullamcorper eros at tempus suscipit...\n",
       "22                                   Morbi convallis \n",
       "23  augue metus, accumsan malesuada elit consectet...\n",
       "24  ut, blandit dui. Integer at purus et quam blan...\n",
       "25                                   malesuada ipsum.\n",
       "26                                Nullam euismod, odi\n",
       "27  o in ornare fermentum, nunc sapien vestibulum ...\n",
       "28                                         sed erat. \n",
       "29  Proin facilisis lacus vitae magna volutpat, vi...\n",
       "30  a nibh elementum, quis eleifend nulla fringill...\n",
       "31             pulvinar est consequat rhoncus ut non \n",
       "32  augue. Cras id velit purus. Aliquam convallis ...\n",
       "33  ligula cursus vel. Curabitur vitae cursus ante...\n",
       "34                                   imperdiet diam e\n",
       "35   get tortor dignissim egestas vitae sit amet sem.\n",
       "36  In purus elit, finibus quis nisi ut, placerat ...\n",
       "37  senectus et netus et malesuada fames ac turpis...\n",
       "38                                         iaculis ma\n",
       "39  ssa. Nunc orci magna, congue a egestas nec, vu...\n",
       "40  ipsum eu porttitor. Cras pretium porta tempor....\n",
       "41  varius arcu eget egestas. Praesent ullamcorper...\n",
       "42            ante sagittis vel. Ut elementum ligula \n",
       "43  enim. Maecenas massa dui, malesuada in metus n...\n",
       "44  Curabitur dictum lacus magna. Integer ex velit...\n",
       "45       Phasellus cursus viverra ultrices. Maecenas \n",
       "46  magna arcu, finibus eget elit vitae, iaculis o...\n",
       "47  Nullam faucibus libero felis, in efficitur lor...\n",
       "48  gravida orci suscipit quis. Orci varius natoqu...\n",
       "49                                            scetur \n",
       "50  ridiculus mus. Pellentesque ac risus arcu. Ali...\n",
       "51  Pellentesque non mauris in elit rhoncus condim...\n",
       "52  justo sed finibus egestas, risus velit porta e...\n",
       "53       r sem augue vel leo. Ut nisi massa, egestas \n",
       "54  quis orci nec, varius condimentum lorem. Nulla...\n",
       "55  tristique senectus et netus et malesuada fames...\n",
       "56                                        faucibus or\n",
       "57       ci luctus et ultrices posuere cubilia Curae;"
      ]
     },
     "execution_count": 14,
     "metadata": {},
     "output_type": "execute_result"
    }
   ],
   "source": [
    "data = pd.read_excel(r'C:\\Users\\Sri-Ram\\Downloads\\output.xlsx', sep=' ', header=None)\n",
    "data"
   ]
  },
  {
   "cell_type": "code",
   "execution_count": 18,
   "metadata": {},
   "outputs": [],
   "source": [
    "# original pdf file name \n",
    "minutesFile = open(r'E:\\notes\\noorain_python\\py_pdf(26-Jul-20)\\python_eBook.pdf', 'rb')\n",
    "\n",
    "pdfReader = PyPDF2.PdfFileReader(minutesFile)\n",
    "minutesFirstPage = pdfReader.getPage(0)\n",
    "\n",
    "# watermark pdf file name \n",
    "pdfWatermarkReader = PyPDF2.PdfFileReader(open(r'E:\\notes\\noorain_python\\py_pdf(26-Jul-20)\\PDF Notes.pdf', 'rb'))\n",
    "\n",
    "minutesFirstPage.mergePage(pdfWatermarkReader.getPage(0))\n",
    "pdfWriter = PyPDF2.PdfFileWriter()\n",
    "pdfWriter.addPage(minutesFirstPage)\n",
    "\n",
    "for pageNum in range(1, pdfReader.numPages):\n",
    "    pageObj = pdfReader.getPage(pageNum)\n",
    "    pdfWriter.addPage(pageObj)\n",
    "\n",
    "# new pdf file name \n",
    "resultPdfFile = open('watermarkedCover1.pdf', 'wb')\n",
    "pdfWriter.write(resultPdfFile)\n",
    "minutesFile.close()\n",
    "resultPdfFile.close()"
   ]
  },
  {
   "cell_type": "code",
   "execution_count": 21,
   "metadata": {},
   "outputs": [],
   "source": [
    "pdfreader = PyPDF2.PdfFileReader('E://notes//Machine Learning//py-master//TechTopics//ResumeDataAnalyst//Resume_data_analyst_fresher.pdf', 'rb')"
   ]
  },
  {
   "cell_type": "code",
   "execution_count": 22,
   "metadata": {},
   "outputs": [
    {
     "name": "stdout",
     "output_type": "stream",
     "text": [
      "\n"
     ]
    }
   ],
   "source": [
    "pdf1 = pdfreader.getPage(0)\n",
    "print(pdf1.extractText())"
   ]
  },
  {
   "cell_type": "code",
   "execution_count": 23,
   "metadata": {},
   "outputs": [],
   "source": [
    "f = open('note_file.txt', 'a')"
   ]
  },
  {
   "cell_type": "code",
   "execution_count": 24,
   "metadata": {},
   "outputs": [
    {
     "data": {
      "text/plain": [
       "1"
      ]
     },
     "execution_count": 24,
     "metadata": {},
     "output_type": "execute_result"
    }
   ],
   "source": [
    "total_page = pdfreader.getNumPages()\n",
    "\n",
    "PDF = ' '\n",
    "i = 0\n",
    "while i < total_page:\n",
    "    page = pdfreader.getPage(i)\n",
    "    i += 1\n",
    "    PDF += page.extractText()\n",
    "    \n",
    "f.write(PDF)"
   ]
  },
  {
   "cell_type": "code",
   "execution_count": 18,
   "metadata": {},
   "outputs": [
    {
     "data": {
      "text/plain": [
       "'C:\\\\Users\\\\Shri_Ram\\\\Python_Practice'"
      ]
     },
     "execution_count": 18,
     "metadata": {},
     "output_type": "execute_result"
    }
   ],
   "source": [
    "os.getcwd()"
   ]
  },
  {
   "cell_type": "code",
   "execution_count": null,
   "metadata": {},
   "outputs": [],
   "source": []
  }
 ],
 "metadata": {
  "kernelspec": {
   "display_name": "Python 3",
   "language": "python",
   "name": "python3"
  },
  "language_info": {
   "codemirror_mode": {
    "name": "ipython",
    "version": 3
   },
   "file_extension": ".py",
   "mimetype": "text/x-python",
   "name": "python",
   "nbconvert_exporter": "python",
   "pygments_lexer": "ipython3",
   "version": "3.7.6"
  }
 },
 "nbformat": 4,
 "nbformat_minor": 4
}
