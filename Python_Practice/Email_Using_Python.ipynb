{
 "cells": [
  {
   "cell_type": "code",
   "execution_count": 1,
   "metadata": {},
   "outputs": [],
   "source": [
    "import os\n",
    "import smtplib\n",
    "from email.message import EmailMessage\n",
    "import imghdr"
   ]
  },
  {
   "cell_type": "code",
   "execution_count": 5,
   "metadata": {},
   "outputs": [],
   "source": [
    "#Send Simple email using python\n",
    "\n",
    "EMAIL_ADDRESS = os.environ.get('EMAIL_USER')\n",
    "EMAIL_PASSWORD = os.environ.get('EMAIL_PASS')\n",
    "\n",
    "contacts = ['Pathakanshu576@gmail.com', 'Imanshu.576@gmail.com']\n",
    "\n",
    "msg = EmailMessage()\n",
    "msg['Subject'] = 'Email Using Python'\n",
    "msg['From'] = EMAIL_ADDRESS\n",
    "msg['To'] = contacts\n",
    "msg.set_content('Hi bro, are you interested in Data scientist job?')\n",
    "\n",
    "with smtplib.SMTP_SSL('smtp.gmail.com', 465) as smtp:\n",
    "    smtp.login('Pathakanshu576@gmail.com', 8802496912)\n",
    "    \n",
    "    smtp.send_message(msg)"
   ]
  },
  {
   "cell_type": "code",
   "execution_count": 13,
   "metadata": {},
   "outputs": [],
   "source": [
    "#Send image attachment email using python\n",
    "\n",
    "EMAIL_ADDRESS = os.environ.get('EMAIL_USER')\n",
    "EMAIL_PASSWORD = os.environ.get('EMAIL_PASS')\n",
    "\n",
    "contacts = ['Pathakanshu576@gmail.com', 'Imanshu.576@gmail.com']\n",
    "\n",
    "msg = EmailMessage()\n",
    "msg['Subject'] = 'Email Using Python'\n",
    "msg['From'] = EMAIL_ADDRESS\n",
    "msg['To'] = contacts\n",
    "msg.set_content('Hi bro, Please find attached image below')\n",
    "\n",
    "files = ['E://Camera//IMG_20171204_144629.jpg', 'E://Camera//IMG_20171204_144650.jpg', 'E://Camera//IMG_20171204_144722.jpg', 'E://Camera//IMG_20171204_144813.jpg']\n",
    "\n",
    "for file in files:\n",
    "    with open(file, 'rb') as f:\n",
    "        file_data = f.read()\n",
    "        file_type = imghdr.what(f.name)\n",
    "        file_name = f.name\n",
    "    \n",
    "msg.add_attachment(file_data, maintype = 'image', subtype = file_type, filename = file_name)\n",
    "\n",
    "with smtplib.SMTP_SSL('smtp.gmail.com', 465) as smtp:\n",
    "    smtp.login('Pathakanshu576@gmail.com', 8802496912)\n",
    "    \n",
    "    smtp.send_message(msg)"
   ]
  },
  {
   "cell_type": "code",
   "execution_count": 12,
   "metadata": {},
   "outputs": [],
   "source": [
    "#Send PDF attachment email using python\n",
    "\n",
    "EMAIL_ADDRESS = os.environ.get('EMAIL_USER')\n",
    "EMAIL_PASSWORD = os.environ.get('EMAIL_PASS')\n",
    "\n",
    "contacts = ['Pathakanshu576@gmail.com', 'Imanshu.576@gmail.com']\n",
    "\n",
    "msg = EmailMessage()\n",
    "msg['Subject'] = 'Email Using Python'\n",
    "msg['From'] = EMAIL_ADDRESS\n",
    "msg['To'] = contacts\n",
    "msg.set_content('Hi bro, Please find attached certificate PDF below')\n",
    "\n",
    "files = ['E://notes//Certificates//Cognitive Class ML0101ENv3 Certificate _ Cognitive Class.pdf']\n",
    "\n",
    "for file in files:\n",
    "    with open(file, 'rb') as f:\n",
    "        file_data = f.read()\n",
    "        file_name = f.name\n",
    "    \n",
    "msg.add_attachment(file_data, maintype = 'application', subtype = 'octet-stream', filename = file_name)\n",
    "\n",
    "with smtplib.SMTP_SSL('smtp.gmail.com', 465) as smtp:\n",
    "    smtp.login('Pathakanshu576@gmail.com', 8802496912)\n",
    "    \n",
    "    smtp.send_message(msg)"
   ]
  },
  {
   "cell_type": "code",
   "execution_count": null,
   "metadata": {},
   "outputs": [],
   "source": []
  }
 ],
 "metadata": {
  "kernelspec": {
   "display_name": "Python 3",
   "language": "python",
   "name": "python3"
  },
  "language_info": {
   "codemirror_mode": {
    "name": "ipython",
    "version": 3
   },
   "file_extension": ".py",
   "mimetype": "text/x-python",
   "name": "python",
   "nbconvert_exporter": "python",
   "pygments_lexer": "ipython3",
   "version": "3.7.6"
  }
 },
 "nbformat": 4,
 "nbformat_minor": 4
}
